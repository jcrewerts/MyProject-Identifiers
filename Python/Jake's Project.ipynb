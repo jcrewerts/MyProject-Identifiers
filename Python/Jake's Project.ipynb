{
 "cells": [
  {
   "cell_type": "markdown",
   "metadata": {},
   "source": [
    "# Jake's Project\n",
    "\n",
    "## Understanding Boom Error in Self-Propelled Sprayers\n",
    "\n",
    "### Where do we go next?"
   ]
  },
  {
   "cell_type": "code",
   "execution_count": 1,
   "metadata": {},
   "outputs": [],
   "source": [
    "#Insert libraiers\n",
    "import numpy as np\n",
    "import sklearn as sk\n",
    "import sklearn.datasets as skd\n",
    "import sklearn.ensemble as ske\n",
    "import matplotlib.pyplot as plt\n",
    "import pandas as pd\n",
    "%matplotlib inline"
   ]
  },
  {
   "cell_type": "code",
   "execution_count": 2,
   "metadata": {},
   "outputs": [
    {
     "data": {
      "text/html": [
       "<div>\n",
       "<style scoped>\n",
       "    .dataframe tbody tr th:only-of-type {\n",
       "        vertical-align: middle;\n",
       "    }\n",
       "\n",
       "    .dataframe tbody tr th {\n",
       "        vertical-align: top;\n",
       "    }\n",
       "\n",
       "    .dataframe thead th {\n",
       "        text-align: right;\n",
       "    }\n",
       "</style>\n",
       "<table border=\"1\" class=\"dataframe\">\n",
       "  <thead>\n",
       "    <tr style=\"text-align: right;\">\n",
       "      <th></th>\n",
       "      <th>MaxError</th>\n",
       "      <th>CenterFrameRollRate_RotPot</th>\n",
       "      <th>CenterFrameRoll_LVDT</th>\n",
       "      <th>CylinderPressure</th>\n",
       "      <th>Speed</th>\n",
       "      <th>TiltUp</th>\n",
       "      <th>TiltDown</th>\n",
       "      <th>Condition</th>\n",
       "      <th>InletPress</th>\n",
       "      <th>ChassisPitchRate</th>\n",
       "      <th>ChassisRollAngle</th>\n",
       "      <th>ChassisRollRate</th>\n",
       "      <th>ChassisYawRate</th>\n",
       "      <th>RightFront</th>\n",
       "      <th>LeftFront</th>\n",
       "      <th>RightBack</th>\n",
       "      <th>LeftBack</th>\n",
       "    </tr>\n",
       "  </thead>\n",
       "  <tbody>\n",
       "    <tr>\n",
       "      <th>0</th>\n",
       "      <td>54</td>\n",
       "      <td>0.0</td>\n",
       "      <td>0.0</td>\n",
       "      <td>2051</td>\n",
       "      <td>0.000000</td>\n",
       "      <td>0</td>\n",
       "      <td>0</td>\n",
       "      <td>0</td>\n",
       "      <td>1603</td>\n",
       "      <td>-0.726562</td>\n",
       "      <td>-1.678467</td>\n",
       "      <td>1.156250</td>\n",
       "      <td>-0.992188</td>\n",
       "      <td>0</td>\n",
       "      <td>0</td>\n",
       "      <td>0</td>\n",
       "      <td>0</td>\n",
       "    </tr>\n",
       "    <tr>\n",
       "      <th>1</th>\n",
       "      <td>58</td>\n",
       "      <td>0.0</td>\n",
       "      <td>0.0</td>\n",
       "      <td>2051</td>\n",
       "      <td>0.000000</td>\n",
       "      <td>0</td>\n",
       "      <td>0</td>\n",
       "      <td>0</td>\n",
       "      <td>1576</td>\n",
       "      <td>-0.750000</td>\n",
       "      <td>-1.678613</td>\n",
       "      <td>1.117188</td>\n",
       "      <td>-0.937500</td>\n",
       "      <td>0</td>\n",
       "      <td>0</td>\n",
       "      <td>0</td>\n",
       "      <td>0</td>\n",
       "    </tr>\n",
       "    <tr>\n",
       "      <th>2</th>\n",
       "      <td>58</td>\n",
       "      <td>0.1</td>\n",
       "      <td>0.0</td>\n",
       "      <td>2052</td>\n",
       "      <td>0.007812</td>\n",
       "      <td>0</td>\n",
       "      <td>380</td>\n",
       "      <td>0</td>\n",
       "      <td>1547</td>\n",
       "      <td>-0.734375</td>\n",
       "      <td>-1.679455</td>\n",
       "      <td>1.117188</td>\n",
       "      <td>-0.984375</td>\n",
       "      <td>0</td>\n",
       "      <td>0</td>\n",
       "      <td>0</td>\n",
       "      <td>0</td>\n",
       "    </tr>\n",
       "    <tr>\n",
       "      <th>3</th>\n",
       "      <td>-52</td>\n",
       "      <td>0.1</td>\n",
       "      <td>0.0</td>\n",
       "      <td>2039</td>\n",
       "      <td>0.007812</td>\n",
       "      <td>0</td>\n",
       "      <td>380</td>\n",
       "      <td>0</td>\n",
       "      <td>1488</td>\n",
       "      <td>-0.734375</td>\n",
       "      <td>-1.680426</td>\n",
       "      <td>1.109375</td>\n",
       "      <td>-0.875000</td>\n",
       "      <td>0</td>\n",
       "      <td>0</td>\n",
       "      <td>0</td>\n",
       "      <td>0</td>\n",
       "    </tr>\n",
       "    <tr>\n",
       "      <th>4</th>\n",
       "      <td>54</td>\n",
       "      <td>0.1</td>\n",
       "      <td>0.0</td>\n",
       "      <td>1926</td>\n",
       "      <td>0.007812</td>\n",
       "      <td>0</td>\n",
       "      <td>370</td>\n",
       "      <td>0</td>\n",
       "      <td>1437</td>\n",
       "      <td>-0.742188</td>\n",
       "      <td>-1.680754</td>\n",
       "      <td>1.187500</td>\n",
       "      <td>-0.929688</td>\n",
       "      <td>0</td>\n",
       "      <td>0</td>\n",
       "      <td>0</td>\n",
       "      <td>0</td>\n",
       "    </tr>\n",
       "  </tbody>\n",
       "</table>\n",
       "</div>"
      ],
      "text/plain": [
       "   MaxError  CenterFrameRollRate_RotPot  CenterFrameRoll_LVDT  \\\n",
       "0        54                         0.0                   0.0   \n",
       "1        58                         0.0                   0.0   \n",
       "2        58                         0.1                   0.0   \n",
       "3       -52                         0.1                   0.0   \n",
       "4        54                         0.1                   0.0   \n",
       "\n",
       "   CylinderPressure     Speed  TiltUp  TiltDown  Condition  InletPress  \\\n",
       "0              2051  0.000000       0         0          0        1603   \n",
       "1              2051  0.000000       0         0          0        1576   \n",
       "2              2052  0.007812       0       380          0        1547   \n",
       "3              2039  0.007812       0       380          0        1488   \n",
       "4              1926  0.007812       0       370          0        1437   \n",
       "\n",
       "   ChassisPitchRate  ChassisRollAngle  ChassisRollRate  ChassisYawRate  \\\n",
       "0         -0.726562         -1.678467         1.156250       -0.992188   \n",
       "1         -0.750000         -1.678613         1.117188       -0.937500   \n",
       "2         -0.734375         -1.679455         1.117188       -0.984375   \n",
       "3         -0.734375         -1.680426         1.109375       -0.875000   \n",
       "4         -0.742188         -1.680754         1.187500       -0.929688   \n",
       "\n",
       "   RightFront  LeftFront  RightBack  LeftBack  \n",
       "0           0          0          0         0  \n",
       "1           0          0          0         0  \n",
       "2           0          0          0         0  \n",
       "3           0          0          0         0  \n",
       "4           0          0          0         0  "
      ]
     },
     "execution_count": 2,
     "metadata": {},
     "output_type": "execute_result"
    }
   ],
   "source": [
    "#Insert Data CSV for EW-1\n",
    "dataset = pd.read_csv('DataTableField_1EW.csv')\n",
    "dataset.head()"
   ]
  },
  {
   "cell_type": "code",
   "execution_count": 3,
   "metadata": {},
   "outputs": [
    {
     "data": {
      "text/plain": [
       "(1826, 17)"
      ]
     },
     "execution_count": 3,
     "metadata": {},
     "output_type": "execute_result"
    }
   ],
   "source": [
    "dataset.shape\n",
    "#1826 samples from sensors, 11 features (10 features not counting error)\n",
    "#add information on each featuer like they do in Boston Data Set"
   ]
  },
  {
   "cell_type": "code",
   "execution_count": 4,
   "metadata": {},
   "outputs": [
    {
     "data": {
      "text/plain": [
       "MaxError                      False\n",
       "CenterFrameRollRate_RotPot    False\n",
       "CenterFrameRoll_LVDT          False\n",
       "CylinderPressure              False\n",
       "Speed                         False\n",
       "TiltUp                        False\n",
       "TiltDown                      False\n",
       "Condition                     False\n",
       "InletPress                    False\n",
       "ChassisPitchRate              False\n",
       "ChassisRollAngle              False\n",
       "ChassisRollRate               False\n",
       "ChassisYawRate                False\n",
       "RightFront                    False\n",
       "LeftFront                     False\n",
       "RightBack                     False\n",
       "LeftBack                      False\n",
       "dtype: bool"
      ]
     },
     "execution_count": 4,
     "metadata": {},
     "output_type": "execute_result"
    }
   ],
   "source": [
    "#check for null values\n",
    "pd.isnull(dataset).any()"
   ]
  },
  {
   "cell_type": "code",
   "execution_count": 5,
   "metadata": {},
   "outputs": [
    {
     "data": {
      "text/html": [
       "<div>\n",
       "<style scoped>\n",
       "    .dataframe tbody tr th:only-of-type {\n",
       "        vertical-align: middle;\n",
       "    }\n",
       "\n",
       "    .dataframe tbody tr th {\n",
       "        vertical-align: top;\n",
       "    }\n",
       "\n",
       "    .dataframe thead th {\n",
       "        text-align: right;\n",
       "    }\n",
       "</style>\n",
       "<table border=\"1\" class=\"dataframe\">\n",
       "  <thead>\n",
       "    <tr style=\"text-align: right;\">\n",
       "      <th></th>\n",
       "      <th>MaxError</th>\n",
       "      <th>CenterFrameRollRate_RotPot</th>\n",
       "      <th>CenterFrameRoll_LVDT</th>\n",
       "      <th>CylinderPressure</th>\n",
       "      <th>Speed</th>\n",
       "      <th>TiltUp</th>\n",
       "      <th>TiltDown</th>\n",
       "      <th>Condition</th>\n",
       "      <th>InletPress</th>\n",
       "      <th>ChassisPitchRate</th>\n",
       "      <th>ChassisRollAngle</th>\n",
       "      <th>ChassisRollRate</th>\n",
       "      <th>ChassisYawRate</th>\n",
       "      <th>RightFront</th>\n",
       "      <th>LeftFront</th>\n",
       "      <th>RightBack</th>\n",
       "      <th>LeftBack</th>\n",
       "    </tr>\n",
       "  </thead>\n",
       "  <tbody>\n",
       "    <tr>\n",
       "      <th>count</th>\n",
       "      <td>1826.000000</td>\n",
       "      <td>1826.000000</td>\n",
       "      <td>1826.000000</td>\n",
       "      <td>1826.000000</td>\n",
       "      <td>1826.000000</td>\n",
       "      <td>1826.000000</td>\n",
       "      <td>1826.000000</td>\n",
       "      <td>1826.000000</td>\n",
       "      <td>1826.000000</td>\n",
       "      <td>1826.000000</td>\n",
       "      <td>1826.000000</td>\n",
       "      <td>1826.000000</td>\n",
       "      <td>1826.000000</td>\n",
       "      <td>1826.000000</td>\n",
       "      <td>1826.000000</td>\n",
       "      <td>1826.000000</td>\n",
       "      <td>1826.000000</td>\n",
       "    </tr>\n",
       "    <tr>\n",
       "      <th>mean</th>\n",
       "      <td>128.474261</td>\n",
       "      <td>-0.050712</td>\n",
       "      <td>0.303845</td>\n",
       "      <td>2136.085433</td>\n",
       "      <td>16.052788</td>\n",
       "      <td>385.006024</td>\n",
       "      <td>295.175794</td>\n",
       "      <td>0.774918</td>\n",
       "      <td>2678.084337</td>\n",
       "      <td>-0.681878</td>\n",
       "      <td>0.575423</td>\n",
       "      <td>1.145605</td>\n",
       "      <td>-0.990998</td>\n",
       "      <td>1781.185652</td>\n",
       "      <td>1518.295181</td>\n",
       "      <td>1710.172508</td>\n",
       "      <td>1562.833516</td>\n",
       "    </tr>\n",
       "    <tr>\n",
       "      <th>std</th>\n",
       "      <td>150.850294</td>\n",
       "      <td>0.524336</td>\n",
       "      <td>0.592776</td>\n",
       "      <td>254.491522</td>\n",
       "      <td>6.529380</td>\n",
       "      <td>270.332369</td>\n",
       "      <td>221.861979</td>\n",
       "      <td>0.417751</td>\n",
       "      <td>272.251764</td>\n",
       "      <td>1.090001</td>\n",
       "      <td>1.655619</td>\n",
       "      <td>0.909266</td>\n",
       "      <td>0.846906</td>\n",
       "      <td>178.104421</td>\n",
       "      <td>158.265018</td>\n",
       "      <td>170.273325</td>\n",
       "      <td>156.602310</td>\n",
       "    </tr>\n",
       "    <tr>\n",
       "      <th>min</th>\n",
       "      <td>-152.000000</td>\n",
       "      <td>-2.200000</td>\n",
       "      <td>-1.367188</td>\n",
       "      <td>444.000000</td>\n",
       "      <td>0.000000</td>\n",
       "      <td>0.000000</td>\n",
       "      <td>0.000000</td>\n",
       "      <td>0.000000</td>\n",
       "      <td>1273.000000</td>\n",
       "      <td>-4.203125</td>\n",
       "      <td>-2.113697</td>\n",
       "      <td>-2.781250</td>\n",
       "      <td>-4.093750</td>\n",
       "      <td>0.000000</td>\n",
       "      <td>0.000000</td>\n",
       "      <td>0.000000</td>\n",
       "      <td>0.000000</td>\n",
       "    </tr>\n",
       "    <tr>\n",
       "      <th>25%</th>\n",
       "      <td>14.000000</td>\n",
       "      <td>-0.400000</td>\n",
       "      <td>-0.070312</td>\n",
       "      <td>2005.500000</td>\n",
       "      <td>18.398438</td>\n",
       "      <td>375.000000</td>\n",
       "      <td>0.000000</td>\n",
       "      <td>1.000000</td>\n",
       "      <td>2505.250000</td>\n",
       "      <td>-1.289062</td>\n",
       "      <td>-0.832335</td>\n",
       "      <td>0.595703</td>\n",
       "      <td>-1.484375</td>\n",
       "      <td>1744.000000</td>\n",
       "      <td>1481.000000</td>\n",
       "      <td>1672.000000</td>\n",
       "      <td>1532.000000</td>\n",
       "    </tr>\n",
       "    <tr>\n",
       "      <th>50%</th>\n",
       "      <td>117.000000</td>\n",
       "      <td>-0.100000</td>\n",
       "      <td>0.320312</td>\n",
       "      <td>2134.000000</td>\n",
       "      <td>19.273438</td>\n",
       "      <td>419.000000</td>\n",
       "      <td>370.000000</td>\n",
       "      <td>1.000000</td>\n",
       "      <td>2751.000000</td>\n",
       "      <td>-0.703125</td>\n",
       "      <td>0.517920</td>\n",
       "      <td>1.140625</td>\n",
       "      <td>-0.960938</td>\n",
       "      <td>1803.000000</td>\n",
       "      <td>1521.000000</td>\n",
       "      <td>1721.000000</td>\n",
       "      <td>1574.000000</td>\n",
       "    </tr>\n",
       "    <tr>\n",
       "      <th>75%</th>\n",
       "      <td>226.000000</td>\n",
       "      <td>0.300000</td>\n",
       "      <td>0.742188</td>\n",
       "      <td>2292.000000</td>\n",
       "      <td>19.500000</td>\n",
       "      <td>480.000000</td>\n",
       "      <td>450.000000</td>\n",
       "      <td>1.000000</td>\n",
       "      <td>2881.000000</td>\n",
       "      <td>-0.132812</td>\n",
       "      <td>1.891728</td>\n",
       "      <td>1.710938</td>\n",
       "      <td>-0.509766</td>\n",
       "      <td>1841.000000</td>\n",
       "      <td>1580.000000</td>\n",
       "      <td>1770.000000</td>\n",
       "      <td>1616.000000</td>\n",
       "    </tr>\n",
       "    <tr>\n",
       "      <th>max</th>\n",
       "      <td>547.000000</td>\n",
       "      <td>1.500000</td>\n",
       "      <td>1.945312</td>\n",
       "      <td>3081.000000</td>\n",
       "      <td>20.722656</td>\n",
       "      <td>2000.000000</td>\n",
       "      <td>780.000000</td>\n",
       "      <td>1.000000</td>\n",
       "      <td>3275.000000</td>\n",
       "      <td>4.492188</td>\n",
       "      <td>4.020060</td>\n",
       "      <td>5.015625</td>\n",
       "      <td>2.578125</td>\n",
       "      <td>2031.000000</td>\n",
       "      <td>1814.000000</td>\n",
       "      <td>1995.000000</td>\n",
       "      <td>1799.000000</td>\n",
       "    </tr>\n",
       "  </tbody>\n",
       "</table>\n",
       "</div>"
      ],
      "text/plain": [
       "          MaxError  CenterFrameRollRate_RotPot  CenterFrameRoll_LVDT  \\\n",
       "count  1826.000000                 1826.000000           1826.000000   \n",
       "mean    128.474261                   -0.050712              0.303845   \n",
       "std     150.850294                    0.524336              0.592776   \n",
       "min    -152.000000                   -2.200000             -1.367188   \n",
       "25%      14.000000                   -0.400000             -0.070312   \n",
       "50%     117.000000                   -0.100000              0.320312   \n",
       "75%     226.000000                    0.300000              0.742188   \n",
       "max     547.000000                    1.500000              1.945312   \n",
       "\n",
       "       CylinderPressure        Speed       TiltUp     TiltDown    Condition  \\\n",
       "count       1826.000000  1826.000000  1826.000000  1826.000000  1826.000000   \n",
       "mean        2136.085433    16.052788   385.006024   295.175794     0.774918   \n",
       "std          254.491522     6.529380   270.332369   221.861979     0.417751   \n",
       "min          444.000000     0.000000     0.000000     0.000000     0.000000   \n",
       "25%         2005.500000    18.398438   375.000000     0.000000     1.000000   \n",
       "50%         2134.000000    19.273438   419.000000   370.000000     1.000000   \n",
       "75%         2292.000000    19.500000   480.000000   450.000000     1.000000   \n",
       "max         3081.000000    20.722656  2000.000000   780.000000     1.000000   \n",
       "\n",
       "        InletPress  ChassisPitchRate  ChassisRollAngle  ChassisRollRate  \\\n",
       "count  1826.000000       1826.000000       1826.000000      1826.000000   \n",
       "mean   2678.084337         -0.681878          0.575423         1.145605   \n",
       "std     272.251764          1.090001          1.655619         0.909266   \n",
       "min    1273.000000         -4.203125         -2.113697        -2.781250   \n",
       "25%    2505.250000         -1.289062         -0.832335         0.595703   \n",
       "50%    2751.000000         -0.703125          0.517920         1.140625   \n",
       "75%    2881.000000         -0.132812          1.891728         1.710938   \n",
       "max    3275.000000          4.492188          4.020060         5.015625   \n",
       "\n",
       "       ChassisYawRate   RightFront    LeftFront    RightBack     LeftBack  \n",
       "count     1826.000000  1826.000000  1826.000000  1826.000000  1826.000000  \n",
       "mean        -0.990998  1781.185652  1518.295181  1710.172508  1562.833516  \n",
       "std          0.846906   178.104421   158.265018   170.273325   156.602310  \n",
       "min         -4.093750     0.000000     0.000000     0.000000     0.000000  \n",
       "25%         -1.484375  1744.000000  1481.000000  1672.000000  1532.000000  \n",
       "50%         -0.960938  1803.000000  1521.000000  1721.000000  1574.000000  \n",
       "75%         -0.509766  1841.000000  1580.000000  1770.000000  1616.000000  \n",
       "max          2.578125  2031.000000  1814.000000  1995.000000  1799.000000  "
      ]
     },
     "execution_count": 5,
     "metadata": {},
     "output_type": "execute_result"
    }
   ],
   "source": [
    "#describe dataset\n",
    "dataset.describe()\n"
   ]
  },
  {
   "cell_type": "code",
   "execution_count": 6,
   "metadata": {},
   "outputs": [
    {
     "data": {
      "text/html": [
       "<div>\n",
       "<style scoped>\n",
       "    .dataframe tbody tr th:only-of-type {\n",
       "        vertical-align: middle;\n",
       "    }\n",
       "\n",
       "    .dataframe tbody tr th {\n",
       "        vertical-align: top;\n",
       "    }\n",
       "\n",
       "    .dataframe thead th {\n",
       "        text-align: right;\n",
       "    }\n",
       "</style>\n",
       "<table border=\"1\" class=\"dataframe\">\n",
       "  <thead>\n",
       "    <tr style=\"text-align: right;\">\n",
       "      <th></th>\n",
       "      <th>MaxError</th>\n",
       "      <th>CenterFrameRollRate_RotPot</th>\n",
       "      <th>CenterFrameRoll_LVDT</th>\n",
       "      <th>CylinderPressure</th>\n",
       "      <th>Speed</th>\n",
       "      <th>TiltUp</th>\n",
       "      <th>TiltDown</th>\n",
       "      <th>Condition</th>\n",
       "      <th>InletPress</th>\n",
       "      <th>ChassisPitchRate</th>\n",
       "      <th>ChassisRollAngle</th>\n",
       "      <th>ChassisRollRate</th>\n",
       "      <th>ChassisYawRate</th>\n",
       "      <th>RightFront</th>\n",
       "      <th>LeftFront</th>\n",
       "      <th>RightBack</th>\n",
       "      <th>LeftBack</th>\n",
       "    </tr>\n",
       "  </thead>\n",
       "  <tbody>\n",
       "    <tr>\n",
       "      <th>MaxError</th>\n",
       "      <td>1.000000</td>\n",
       "      <td>0.042335</td>\n",
       "      <td>-0.280546</td>\n",
       "      <td>-0.141364</td>\n",
       "      <td>0.508675</td>\n",
       "      <td>-0.103610</td>\n",
       "      <td>0.440531</td>\n",
       "      <td>0.441292</td>\n",
       "      <td>0.110072</td>\n",
       "      <td>-0.051611</td>\n",
       "      <td>0.377030</td>\n",
       "      <td>-0.058067</td>\n",
       "      <td>-0.043688</td>\n",
       "      <td>-0.030670</td>\n",
       "      <td>0.077806</td>\n",
       "      <td>0.098535</td>\n",
       "      <td>0.176971</td>\n",
       "    </tr>\n",
       "    <tr>\n",
       "      <th>CenterFrameRollRate_RotPot</th>\n",
       "      <td>0.042335</td>\n",
       "      <td>1.000000</td>\n",
       "      <td>0.314572</td>\n",
       "      <td>-0.291306</td>\n",
       "      <td>-0.009243</td>\n",
       "      <td>-0.080210</td>\n",
       "      <td>0.127578</td>\n",
       "      <td>0.045672</td>\n",
       "      <td>0.036444</td>\n",
       "      <td>-0.140668</td>\n",
       "      <td>0.028830</td>\n",
       "      <td>-0.090876</td>\n",
       "      <td>0.313297</td>\n",
       "      <td>-0.037518</td>\n",
       "      <td>0.007149</td>\n",
       "      <td>0.053405</td>\n",
       "      <td>0.068529</td>\n",
       "    </tr>\n",
       "    <tr>\n",
       "      <th>CenterFrameRoll_LVDT</th>\n",
       "      <td>-0.280546</td>\n",
       "      <td>0.314572</td>\n",
       "      <td>1.000000</td>\n",
       "      <td>-0.148211</td>\n",
       "      <td>-0.500938</td>\n",
       "      <td>-0.047912</td>\n",
       "      <td>-0.172198</td>\n",
       "      <td>-0.563372</td>\n",
       "      <td>-0.109541</td>\n",
       "      <td>-0.007898</td>\n",
       "      <td>-0.642270</td>\n",
       "      <td>-0.068511</td>\n",
       "      <td>-0.014966</td>\n",
       "      <td>0.136039</td>\n",
       "      <td>0.030145</td>\n",
       "      <td>0.153234</td>\n",
       "      <td>-0.035092</td>\n",
       "    </tr>\n",
       "    <tr>\n",
       "      <th>CylinderPressure</th>\n",
       "      <td>-0.141364</td>\n",
       "      <td>-0.291306</td>\n",
       "      <td>-0.148211</td>\n",
       "      <td>1.000000</td>\n",
       "      <td>0.030176</td>\n",
       "      <td>0.366807</td>\n",
       "      <td>-0.224484</td>\n",
       "      <td>0.010912</td>\n",
       "      <td>0.067941</td>\n",
       "      <td>0.041253</td>\n",
       "      <td>0.047285</td>\n",
       "      <td>-0.034470</td>\n",
       "      <td>0.019754</td>\n",
       "      <td>0.035857</td>\n",
       "      <td>0.046009</td>\n",
       "      <td>-0.130506</td>\n",
       "      <td>-0.080680</td>\n",
       "    </tr>\n",
       "    <tr>\n",
       "      <th>Speed</th>\n",
       "      <td>0.508675</td>\n",
       "      <td>-0.009243</td>\n",
       "      <td>-0.500938</td>\n",
       "      <td>0.030176</td>\n",
       "      <td>1.000000</td>\n",
       "      <td>0.076787</td>\n",
       "      <td>0.359802</td>\n",
       "      <td>0.931168</td>\n",
       "      <td>0.201973</td>\n",
       "      <td>-0.026359</td>\n",
       "      <td>0.659686</td>\n",
       "      <td>-0.010394</td>\n",
       "      <td>-0.020742</td>\n",
       "      <td>0.059995</td>\n",
       "      <td>0.205378</td>\n",
       "      <td>0.072970</td>\n",
       "      <td>0.290604</td>\n",
       "    </tr>\n",
       "    <tr>\n",
       "      <th>TiltUp</th>\n",
       "      <td>-0.103610</td>\n",
       "      <td>-0.080210</td>\n",
       "      <td>-0.047912</td>\n",
       "      <td>0.366807</td>\n",
       "      <td>0.076787</td>\n",
       "      <td>1.000000</td>\n",
       "      <td>-0.154772</td>\n",
       "      <td>0.079784</td>\n",
       "      <td>0.086018</td>\n",
       "      <td>-0.087320</td>\n",
       "      <td>0.085320</td>\n",
       "      <td>-0.151650</td>\n",
       "      <td>0.050788</td>\n",
       "      <td>0.067482</td>\n",
       "      <td>0.097537</td>\n",
       "      <td>-0.049600</td>\n",
       "      <td>-0.002260</td>\n",
       "    </tr>\n",
       "    <tr>\n",
       "      <th>TiltDown</th>\n",
       "      <td>0.440531</td>\n",
       "      <td>0.127578</td>\n",
       "      <td>-0.172198</td>\n",
       "      <td>-0.224484</td>\n",
       "      <td>0.359802</td>\n",
       "      <td>-0.154772</td>\n",
       "      <td>1.000000</td>\n",
       "      <td>0.321350</td>\n",
       "      <td>0.125625</td>\n",
       "      <td>0.014174</td>\n",
       "      <td>0.326321</td>\n",
       "      <td>0.027096</td>\n",
       "      <td>-0.094849</td>\n",
       "      <td>-0.026825</td>\n",
       "      <td>0.067066</td>\n",
       "      <td>0.055970</td>\n",
       "      <td>0.170055</td>\n",
       "    </tr>\n",
       "    <tr>\n",
       "      <th>Condition</th>\n",
       "      <td>0.441292</td>\n",
       "      <td>0.045672</td>\n",
       "      <td>-0.563372</td>\n",
       "      <td>0.010912</td>\n",
       "      <td>0.931168</td>\n",
       "      <td>0.079784</td>\n",
       "      <td>0.321350</td>\n",
       "      <td>1.000000</td>\n",
       "      <td>0.137017</td>\n",
       "      <td>-0.048089</td>\n",
       "      <td>0.670223</td>\n",
       "      <td>-0.027138</td>\n",
       "      <td>0.100023</td>\n",
       "      <td>0.006328</td>\n",
       "      <td>0.143281</td>\n",
       "      <td>0.053668</td>\n",
       "      <td>0.252105</td>\n",
       "    </tr>\n",
       "    <tr>\n",
       "      <th>InletPress</th>\n",
       "      <td>0.110072</td>\n",
       "      <td>0.036444</td>\n",
       "      <td>-0.109541</td>\n",
       "      <td>0.067941</td>\n",
       "      <td>0.201973</td>\n",
       "      <td>0.086018</td>\n",
       "      <td>0.125625</td>\n",
       "      <td>0.137017</td>\n",
       "      <td>1.000000</td>\n",
       "      <td>-0.296756</td>\n",
       "      <td>0.228138</td>\n",
       "      <td>-0.029985</td>\n",
       "      <td>0.009302</td>\n",
       "      <td>0.349383</td>\n",
       "      <td>0.430750</td>\n",
       "      <td>0.342347</td>\n",
       "      <td>0.391082</td>\n",
       "    </tr>\n",
       "    <tr>\n",
       "      <th>ChassisPitchRate</th>\n",
       "      <td>-0.051611</td>\n",
       "      <td>-0.140668</td>\n",
       "      <td>-0.007898</td>\n",
       "      <td>0.041253</td>\n",
       "      <td>-0.026359</td>\n",
       "      <td>-0.087320</td>\n",
       "      <td>0.014174</td>\n",
       "      <td>-0.048089</td>\n",
       "      <td>-0.296756</td>\n",
       "      <td>1.000000</td>\n",
       "      <td>-0.062683</td>\n",
       "      <td>0.055744</td>\n",
       "      <td>-0.229387</td>\n",
       "      <td>-0.030520</td>\n",
       "      <td>-0.035561</td>\n",
       "      <td>0.050647</td>\n",
       "      <td>0.000091</td>\n",
       "    </tr>\n",
       "    <tr>\n",
       "      <th>ChassisRollAngle</th>\n",
       "      <td>0.377030</td>\n",
       "      <td>0.028830</td>\n",
       "      <td>-0.642270</td>\n",
       "      <td>0.047285</td>\n",
       "      <td>0.659686</td>\n",
       "      <td>0.085320</td>\n",
       "      <td>0.326321</td>\n",
       "      <td>0.670223</td>\n",
       "      <td>0.228138</td>\n",
       "      <td>-0.062683</td>\n",
       "      <td>1.000000</td>\n",
       "      <td>-0.036339</td>\n",
       "      <td>0.040153</td>\n",
       "      <td>-0.108739</td>\n",
       "      <td>0.245739</td>\n",
       "      <td>-0.056584</td>\n",
       "      <td>0.319344</td>\n",
       "    </tr>\n",
       "    <tr>\n",
       "      <th>ChassisRollRate</th>\n",
       "      <td>-0.058067</td>\n",
       "      <td>-0.090876</td>\n",
       "      <td>-0.068511</td>\n",
       "      <td>-0.034470</td>\n",
       "      <td>-0.010394</td>\n",
       "      <td>-0.151650</td>\n",
       "      <td>0.027096</td>\n",
       "      <td>-0.027138</td>\n",
       "      <td>-0.029985</td>\n",
       "      <td>0.055744</td>\n",
       "      <td>-0.036339</td>\n",
       "      <td>1.000000</td>\n",
       "      <td>-0.234532</td>\n",
       "      <td>0.083056</td>\n",
       "      <td>-0.081725</td>\n",
       "      <td>-0.027294</td>\n",
       "      <td>0.035343</td>\n",
       "    </tr>\n",
       "    <tr>\n",
       "      <th>ChassisYawRate</th>\n",
       "      <td>-0.043688</td>\n",
       "      <td>0.313297</td>\n",
       "      <td>-0.014966</td>\n",
       "      <td>0.019754</td>\n",
       "      <td>-0.020742</td>\n",
       "      <td>0.050788</td>\n",
       "      <td>-0.094849</td>\n",
       "      <td>0.100023</td>\n",
       "      <td>0.009302</td>\n",
       "      <td>-0.229387</td>\n",
       "      <td>0.040153</td>\n",
       "      <td>-0.234532</td>\n",
       "      <td>1.000000</td>\n",
       "      <td>-0.022645</td>\n",
       "      <td>-0.023389</td>\n",
       "      <td>0.022373</td>\n",
       "      <td>-0.059874</td>\n",
       "    </tr>\n",
       "    <tr>\n",
       "      <th>RightFront</th>\n",
       "      <td>-0.030670</td>\n",
       "      <td>-0.037518</td>\n",
       "      <td>0.136039</td>\n",
       "      <td>0.035857</td>\n",
       "      <td>0.059995</td>\n",
       "      <td>0.067482</td>\n",
       "      <td>-0.026825</td>\n",
       "      <td>0.006328</td>\n",
       "      <td>0.349383</td>\n",
       "      <td>-0.030520</td>\n",
       "      <td>-0.108739</td>\n",
       "      <td>0.083056</td>\n",
       "      <td>-0.022645</td>\n",
       "      <td>1.000000</td>\n",
       "      <td>0.799690</td>\n",
       "      <td>0.842722</td>\n",
       "      <td>0.754387</td>\n",
       "    </tr>\n",
       "    <tr>\n",
       "      <th>LeftFront</th>\n",
       "      <td>0.077806</td>\n",
       "      <td>0.007149</td>\n",
       "      <td>0.030145</td>\n",
       "      <td>0.046009</td>\n",
       "      <td>0.205378</td>\n",
       "      <td>0.097537</td>\n",
       "      <td>0.067066</td>\n",
       "      <td>0.143281</td>\n",
       "      <td>0.430750</td>\n",
       "      <td>-0.035561</td>\n",
       "      <td>0.245739</td>\n",
       "      <td>-0.081725</td>\n",
       "      <td>-0.023389</td>\n",
       "      <td>0.799690</td>\n",
       "      <td>1.000000</td>\n",
       "      <td>0.727690</td>\n",
       "      <td>0.806029</td>\n",
       "    </tr>\n",
       "    <tr>\n",
       "      <th>RightBack</th>\n",
       "      <td>0.098535</td>\n",
       "      <td>0.053405</td>\n",
       "      <td>0.153234</td>\n",
       "      <td>-0.130506</td>\n",
       "      <td>0.072970</td>\n",
       "      <td>-0.049600</td>\n",
       "      <td>0.055970</td>\n",
       "      <td>0.053668</td>\n",
       "      <td>0.342347</td>\n",
       "      <td>0.050647</td>\n",
       "      <td>-0.056584</td>\n",
       "      <td>-0.027294</td>\n",
       "      <td>0.022373</td>\n",
       "      <td>0.842722</td>\n",
       "      <td>0.727690</td>\n",
       "      <td>1.000000</td>\n",
       "      <td>0.837215</td>\n",
       "    </tr>\n",
       "    <tr>\n",
       "      <th>LeftBack</th>\n",
       "      <td>0.176971</td>\n",
       "      <td>0.068529</td>\n",
       "      <td>-0.035092</td>\n",
       "      <td>-0.080680</td>\n",
       "      <td>0.290604</td>\n",
       "      <td>-0.002260</td>\n",
       "      <td>0.170055</td>\n",
       "      <td>0.252105</td>\n",
       "      <td>0.391082</td>\n",
       "      <td>0.000091</td>\n",
       "      <td>0.319344</td>\n",
       "      <td>0.035343</td>\n",
       "      <td>-0.059874</td>\n",
       "      <td>0.754387</td>\n",
       "      <td>0.806029</td>\n",
       "      <td>0.837215</td>\n",
       "      <td>1.000000</td>\n",
       "    </tr>\n",
       "  </tbody>\n",
       "</table>\n",
       "</div>"
      ],
      "text/plain": [
       "                            MaxError  CenterFrameRollRate_RotPot  \\\n",
       "MaxError                    1.000000                    0.042335   \n",
       "CenterFrameRollRate_RotPot  0.042335                    1.000000   \n",
       "CenterFrameRoll_LVDT       -0.280546                    0.314572   \n",
       "CylinderPressure           -0.141364                   -0.291306   \n",
       "Speed                       0.508675                   -0.009243   \n",
       "TiltUp                     -0.103610                   -0.080210   \n",
       "TiltDown                    0.440531                    0.127578   \n",
       "Condition                   0.441292                    0.045672   \n",
       "InletPress                  0.110072                    0.036444   \n",
       "ChassisPitchRate           -0.051611                   -0.140668   \n",
       "ChassisRollAngle            0.377030                    0.028830   \n",
       "ChassisRollRate            -0.058067                   -0.090876   \n",
       "ChassisYawRate             -0.043688                    0.313297   \n",
       "RightFront                 -0.030670                   -0.037518   \n",
       "LeftFront                   0.077806                    0.007149   \n",
       "RightBack                   0.098535                    0.053405   \n",
       "LeftBack                    0.176971                    0.068529   \n",
       "\n",
       "                            CenterFrameRoll_LVDT  CylinderPressure     Speed  \\\n",
       "MaxError                               -0.280546         -0.141364  0.508675   \n",
       "CenterFrameRollRate_RotPot              0.314572         -0.291306 -0.009243   \n",
       "CenterFrameRoll_LVDT                    1.000000         -0.148211 -0.500938   \n",
       "CylinderPressure                       -0.148211          1.000000  0.030176   \n",
       "Speed                                  -0.500938          0.030176  1.000000   \n",
       "TiltUp                                 -0.047912          0.366807  0.076787   \n",
       "TiltDown                               -0.172198         -0.224484  0.359802   \n",
       "Condition                              -0.563372          0.010912  0.931168   \n",
       "InletPress                             -0.109541          0.067941  0.201973   \n",
       "ChassisPitchRate                       -0.007898          0.041253 -0.026359   \n",
       "ChassisRollAngle                       -0.642270          0.047285  0.659686   \n",
       "ChassisRollRate                        -0.068511         -0.034470 -0.010394   \n",
       "ChassisYawRate                         -0.014966          0.019754 -0.020742   \n",
       "RightFront                              0.136039          0.035857  0.059995   \n",
       "LeftFront                               0.030145          0.046009  0.205378   \n",
       "RightBack                               0.153234         -0.130506  0.072970   \n",
       "LeftBack                               -0.035092         -0.080680  0.290604   \n",
       "\n",
       "                              TiltUp  TiltDown  Condition  InletPress  \\\n",
       "MaxError                   -0.103610  0.440531   0.441292    0.110072   \n",
       "CenterFrameRollRate_RotPot -0.080210  0.127578   0.045672    0.036444   \n",
       "CenterFrameRoll_LVDT       -0.047912 -0.172198  -0.563372   -0.109541   \n",
       "CylinderPressure            0.366807 -0.224484   0.010912    0.067941   \n",
       "Speed                       0.076787  0.359802   0.931168    0.201973   \n",
       "TiltUp                      1.000000 -0.154772   0.079784    0.086018   \n",
       "TiltDown                   -0.154772  1.000000   0.321350    0.125625   \n",
       "Condition                   0.079784  0.321350   1.000000    0.137017   \n",
       "InletPress                  0.086018  0.125625   0.137017    1.000000   \n",
       "ChassisPitchRate           -0.087320  0.014174  -0.048089   -0.296756   \n",
       "ChassisRollAngle            0.085320  0.326321   0.670223    0.228138   \n",
       "ChassisRollRate            -0.151650  0.027096  -0.027138   -0.029985   \n",
       "ChassisYawRate              0.050788 -0.094849   0.100023    0.009302   \n",
       "RightFront                  0.067482 -0.026825   0.006328    0.349383   \n",
       "LeftFront                   0.097537  0.067066   0.143281    0.430750   \n",
       "RightBack                  -0.049600  0.055970   0.053668    0.342347   \n",
       "LeftBack                   -0.002260  0.170055   0.252105    0.391082   \n",
       "\n",
       "                            ChassisPitchRate  ChassisRollAngle  \\\n",
       "MaxError                           -0.051611          0.377030   \n",
       "CenterFrameRollRate_RotPot         -0.140668          0.028830   \n",
       "CenterFrameRoll_LVDT               -0.007898         -0.642270   \n",
       "CylinderPressure                    0.041253          0.047285   \n",
       "Speed                              -0.026359          0.659686   \n",
       "TiltUp                             -0.087320          0.085320   \n",
       "TiltDown                            0.014174          0.326321   \n",
       "Condition                          -0.048089          0.670223   \n",
       "InletPress                         -0.296756          0.228138   \n",
       "ChassisPitchRate                    1.000000         -0.062683   \n",
       "ChassisRollAngle                   -0.062683          1.000000   \n",
       "ChassisRollRate                     0.055744         -0.036339   \n",
       "ChassisYawRate                     -0.229387          0.040153   \n",
       "RightFront                         -0.030520         -0.108739   \n",
       "LeftFront                          -0.035561          0.245739   \n",
       "RightBack                           0.050647         -0.056584   \n",
       "LeftBack                            0.000091          0.319344   \n",
       "\n",
       "                            ChassisRollRate  ChassisYawRate  RightFront  \\\n",
       "MaxError                          -0.058067       -0.043688   -0.030670   \n",
       "CenterFrameRollRate_RotPot        -0.090876        0.313297   -0.037518   \n",
       "CenterFrameRoll_LVDT              -0.068511       -0.014966    0.136039   \n",
       "CylinderPressure                  -0.034470        0.019754    0.035857   \n",
       "Speed                             -0.010394       -0.020742    0.059995   \n",
       "TiltUp                            -0.151650        0.050788    0.067482   \n",
       "TiltDown                           0.027096       -0.094849   -0.026825   \n",
       "Condition                         -0.027138        0.100023    0.006328   \n",
       "InletPress                        -0.029985        0.009302    0.349383   \n",
       "ChassisPitchRate                   0.055744       -0.229387   -0.030520   \n",
       "ChassisRollAngle                  -0.036339        0.040153   -0.108739   \n",
       "ChassisRollRate                    1.000000       -0.234532    0.083056   \n",
       "ChassisYawRate                    -0.234532        1.000000   -0.022645   \n",
       "RightFront                         0.083056       -0.022645    1.000000   \n",
       "LeftFront                         -0.081725       -0.023389    0.799690   \n",
       "RightBack                         -0.027294        0.022373    0.842722   \n",
       "LeftBack                           0.035343       -0.059874    0.754387   \n",
       "\n",
       "                            LeftFront  RightBack  LeftBack  \n",
       "MaxError                     0.077806   0.098535  0.176971  \n",
       "CenterFrameRollRate_RotPot   0.007149   0.053405  0.068529  \n",
       "CenterFrameRoll_LVDT         0.030145   0.153234 -0.035092  \n",
       "CylinderPressure             0.046009  -0.130506 -0.080680  \n",
       "Speed                        0.205378   0.072970  0.290604  \n",
       "TiltUp                       0.097537  -0.049600 -0.002260  \n",
       "TiltDown                     0.067066   0.055970  0.170055  \n",
       "Condition                    0.143281   0.053668  0.252105  \n",
       "InletPress                   0.430750   0.342347  0.391082  \n",
       "ChassisPitchRate            -0.035561   0.050647  0.000091  \n",
       "ChassisRollAngle             0.245739  -0.056584  0.319344  \n",
       "ChassisRollRate             -0.081725  -0.027294  0.035343  \n",
       "ChassisYawRate              -0.023389   0.022373 -0.059874  \n",
       "RightFront                   0.799690   0.842722  0.754387  \n",
       "LeftFront                    1.000000   0.727690  0.806029  \n",
       "RightBack                    0.727690   1.000000  0.837215  \n",
       "LeftBack                     0.806029   0.837215  1.000000  "
      ]
     },
     "execution_count": 6,
     "metadata": {},
     "output_type": "execute_result"
    }
   ],
   "source": [
    "#high number is 1 of correlation positive or negative\n",
    "corr=dataset.corr(method = \"pearson\")\n",
    "corr"
   ]
  },
  {
   "cell_type": "code",
   "execution_count": 7,
   "metadata": {},
   "outputs": [
    {
     "data": {
      "image/png": "[encoded data removed]",
      "text/plain": [
       "<Figure size 432x288 with 2 Axes>"
      ]
     },
     "metadata": {
      "needs_background": "light"
     },
     "output_type": "display_data"
    }
   ],
   "source": [
    "#create heat map\n",
    "import seaborn as sns\n",
    "\n",
    "ax = plt.axes()\n",
    "sns.heatmap(corr)\n",
    "ax.set_title('Heat Map - Starting/Stopping & Running')\n",
    "plt.savefig('heatmapFeatures1.png', tight_layout= True)"
   ]
  },
  {
   "cell_type": "code",
   "execution_count": 8,
   "metadata": {},
   "outputs": [
    {
     "data": {
      "text/plain": [
       "<matplotlib.axes._subplots.AxesSubplot at 0x23ffb2e6780>"
      ]
     },
     "execution_count": 8,
     "metadata": {},
     "output_type": "execute_result"
    },
    {
     "data": {
      "image/png": "[encoded data removed]",
      "text/plain": [
       "<Figure size 432x288 with 2 Axes>"
      ]
     },
     "metadata": {
      "needs_background": "light"
     },
     "output_type": "display_data"
    }
   ],
   "source": [
    "#create heatmap with values annotated\n",
    "sns.heatmap(corr, annot=True, cmap='coolwarm')\n",
    "#plt.savefig('heatmapABSValMore.png', tight_layout= True)"
   ]
  },
  {
   "cell_type": "code",
   "execution_count": 9,
   "metadata": {},
   "outputs": [
    {
     "data": {
      "text/plain": [
       "(array([  4.,   3.,   5.,   7.,  10.,   8.,  20.,  22.,  26.,  15.,  18.,\n",
       "          9.,  18.,  40.,  36.,  30.,  36.,  46.,  58.,  78.,  97.,  66.,\n",
       "         69.,  68.,  81.,  79.,  62.,  67.,  68.,  64.,  58., 118., 135.,\n",
       "         70.,  37.,  29.,  15.,  23.,  17.,  43.,  17.,  13.,  10.,   6.,\n",
       "          1.,   6.,   5.,   7.,   4.,   2.]),\n",
       " array([-1.3671875, -1.3009375, -1.2346875, -1.1684375, -1.1021875,\n",
       "        -1.0359375, -0.9696875, -0.9034375, -0.8371875, -0.7709375,\n",
       "        -0.7046875, -0.6384375, -0.5721875, -0.5059375, -0.4396875,\n",
       "        -0.3734375, -0.3071875, -0.2409375, -0.1746875, -0.1084375,\n",
       "        -0.0421875,  0.0240625,  0.0903125,  0.1565625,  0.2228125,\n",
       "         0.2890625,  0.3553125,  0.4215625,  0.4878125,  0.5540625,\n",
       "         0.6203125,  0.6865625,  0.7528125,  0.8190625,  0.8853125,\n",
       "         0.9515625,  1.0178125,  1.0840625,  1.1503125,  1.2165625,\n",
       "         1.2828125,  1.3490625,  1.4153125,  1.4815625,  1.5478125,\n",
       "         1.6140625,  1.6803125,  1.7465625,  1.8128125,  1.8790625,\n",
       "         1.9453125]),\n",
       " <a list of 50 Patch objects>)"
      ]
     },
     "execution_count": 9,
     "metadata": {},
     "output_type": "execute_result"
    },
    {
     "data": {
      "image/png": "[encoded data removed]",
      "text/plain": [
       "<Figure size 432x288 with 1 Axes>"
      ]
     },
     "metadata": {
      "needs_background": "light"
     },
     "output_type": "display_data"
    }
   ],
   "source": [
    "#look at distrubition of data\n",
    "\n",
    "attribute = dataset['CenterFrameRoll_LVDT']\n",
    "plt.hist(attribute, bins = 50)"
   ]
  },
  {
   "cell_type": "code",
   "execution_count": 10,
   "metadata": {},
   "outputs": [
    {
     "data": {
      "text/plain": [
       "<matplotlib.axes._subplots.AxesSubplot at 0x23ffb1c4c18>"
      ]
     },
     "execution_count": 10,
     "metadata": {},
     "output_type": "execute_result"
    },
    {
     "data": {
      "image/png": "[encoded data removed]",
      "text/plain": [
       "<Figure size 432x288 with 1 Axes>"
      ]
     },
     "metadata": {
      "needs_background": "light"
     },
     "output_type": "display_data"
    }
   ],
   "source": [
    "#distribution plot\n",
    "sns.distplot(attribute, bins = 50)"
   ]
  },
  {
   "cell_type": "code",
   "execution_count": 11,
   "metadata": {},
   "outputs": [
    {
     "data": {
      "text/plain": [
       "<matplotlib.collections.PathCollection at 0x23ffb824e80>"
      ]
     },
     "execution_count": 11,
     "metadata": {},
     "output_type": "execute_result"
    },
    {
     "data": {
      "image/png": "[encoded data removed]",
      "text/plain": [
       "<Figure size 432x288 with 1 Axes>"
      ]
     },
     "metadata": {
      "needs_background": "light"
     },
     "output_type": "display_data"
    }
   ],
   "source": [
    "plt.scatter(dataset['CenterFrameRoll_LVDT'], dataset['MaxError'])"
   ]
  },
  {
   "cell_type": "code",
   "execution_count": 12,
   "metadata": {},
   "outputs": [
    {
     "data": {
      "text/plain": [
       "<seaborn.axisgrid.JointGrid at 0x23ffb83b390>"
      ]
     },
     "execution_count": 12,
     "metadata": {},
     "output_type": "execute_result"
    },
    {
     "data": {
      "image/png": "[encoded data removed]",
      "text/plain": [
       "<Figure size 432x432 with 3 Axes>"
      ]
     },
     "metadata": {
      "needs_background": "light"
     },
     "output_type": "display_data"
    }
   ],
   "source": [
    "#jointplot of MaxError vs Speed\n",
    "#scatter with distribution\n",
    "sns.jointplot(dataset['Speed'], dataset['MaxError'], kind = 'scatter')"
   ]
  },
  {
   "cell_type": "code",
   "execution_count": 13,
   "metadata": {},
   "outputs": [
    {
     "data": {
      "text/plain": [
       "<seaborn.axisgrid.JointGrid at 0x23ffba1cd68>"
      ]
     },
     "execution_count": 13,
     "metadata": {},
     "output_type": "execute_result"
    },
    {
     "data": {
      "image/png": "[encoded data removed]",
      "text/plain": [
       "<Figure size 432x432 with 3 Axes>"
      ]
     },
     "metadata": {
      "needs_background": "light"
     },
     "output_type": "display_data"
    }
   ],
   "source": [
    "#kernel\n",
    "sns.jointplot(dataset['CenterFrameRoll_LVDT'], dataset['MaxError'], kind = 'hex')"
   ]
  },
  {
   "cell_type": "code",
   "execution_count": 14,
   "metadata": {},
   "outputs": [
    {
     "data": {
      "text/plain": [
       "<seaborn.axisgrid.JointGrid at 0x23ffcac67f0>"
      ]
     },
     "execution_count": 14,
     "metadata": {},
     "output_type": "execute_result"
    },
    {
     "data": {
      "image/png": "[encoded data removed]",
      "text/plain": [
       "<Figure size 432x432 with 3 Axes>"
      ]
     },
     "metadata": {
      "needs_background": "light"
     },
     "output_type": "display_data"
    }
   ],
   "source": [
    "sns.jointplot(dataset['Speed'], dataset['MaxError'], kind = 'kde')"
   ]
  },
  {
   "cell_type": "code",
   "execution_count": 15,
   "metadata": {},
   "outputs": [
    {
     "data": {
      "text/plain": [
       "array([[ 0.000000e+00,  0.000000e+00,  2.051000e+03, ...,  0.000000e+00,\n",
       "         0.000000e+00,  0.000000e+00],\n",
       "       [ 0.000000e+00,  0.000000e+00,  2.051000e+03, ...,  0.000000e+00,\n",
       "         0.000000e+00,  0.000000e+00],\n",
       "       [ 1.000000e-01,  0.000000e+00,  2.052000e+03, ...,  0.000000e+00,\n",
       "         0.000000e+00,  0.000000e+00],\n",
       "       ...,\n",
       "       [-2.100000e+00,  1.093750e-01,  2.829000e+03, ...,  1.377000e+03,\n",
       "         1.717000e+03,  1.455000e+03],\n",
       "       [-2.000000e+00,  1.484375e-01,  2.826000e+03, ...,  1.397000e+03,\n",
       "         1.726000e+03,  1.442000e+03],\n",
       "       [-1.900000e+00,  9.375000e-02,  2.698000e+03, ...,  1.399000e+03,\n",
       "         1.720000e+03,  1.443000e+03]])"
      ]
     },
     "execution_count": 15,
     "metadata": {},
     "output_type": "execute_result"
    }
   ],
   "source": [
    "#split dataset into train and model\n",
    "from sklearn.model_selection import train_test_split\n",
    "\n",
    "#select features to look at (X is the features we will be evaluating)\n",
    "X = dataset.iloc[:, 1:17].values\n",
    "X"
   ]
  },
  {
   "cell_type": "code",
   "execution_count": 16,
   "metadata": {},
   "outputs": [
    {
     "data": {
      "text/plain": [
       "array([ 54,  58,  58, ...,  55, -29, -11], dtype=int64)"
      ]
     },
     "execution_count": 16,
     "metadata": {},
     "output_type": "execute_result"
    }
   ],
   "source": [
    "#pick the target variables, Y is the target variable, MaxError\n",
    "Y = dataset.iloc[:, 0].values\n",
    "Y"
   ]
  },
  {
   "cell_type": "code",
   "execution_count": 17,
   "metadata": {},
   "outputs": [
    {
     "data": {
      "text/plain": [
       "(1826, 16)"
      ]
     },
     "execution_count": 17,
     "metadata": {},
     "output_type": "execute_result"
    }
   ],
   "source": [
    "X.shape\n"
   ]
  },
  {
   "cell_type": "code",
   "execution_count": 18,
   "metadata": {},
   "outputs": [
    {
     "data": {
      "text/plain": [
       "(1826,)"
      ]
     },
     "execution_count": 18,
     "metadata": {},
     "output_type": "execute_result"
    }
   ],
   "source": [
    "Y.shape"
   ]
  },
  {
   "cell_type": "code",
   "execution_count": 19,
   "metadata": {},
   "outputs": [],
   "source": [
    "X_train, X_test, Y_train, Y_test = train_test_split(X, Y, test_size = 0.25, random_state = 0)"
   ]
  },
  {
   "cell_type": "code",
   "execution_count": 20,
   "metadata": {},
   "outputs": [
    {
     "name": "stdout",
     "output_type": "stream",
     "text": [
      "(1369, 16) (1369,)\n"
     ]
    }
   ],
   "source": [
    "print(X_train.shape, Y_train.shape)"
   ]
  },
  {
   "cell_type": "code",
   "execution_count": 21,
   "metadata": {},
   "outputs": [],
   "source": [
    "#create random forest\n",
    "reg = ske.RandomForestRegressor(n_estimators= 1000, random_state= 0)"
   ]
  },
  {
   "cell_type": "code",
   "execution_count": 22,
   "metadata": {},
   "outputs": [
    {
     "data": {
      "text/plain": [
       "RandomForestRegressor(bootstrap=True, criterion='mse', max_depth=None,\n",
       "                      max_features='auto', max_leaf_nodes=None,\n",
       "                      min_impurity_decrease=0.0, min_impurity_split=None,\n",
       "                      min_samples_leaf=1, min_samples_split=2,\n",
       "                      min_weight_fraction_leaf=0.0, n_estimators=1000,\n",
       "                      n_jobs=None, oob_score=False, random_state=0, verbose=0,\n",
       "                      warm_start=False)"
      ]
     },
     "execution_count": 22,
     "metadata": {},
     "output_type": "execute_result"
    }
   ],
   "source": [
    "reg.fit(X_train, Y_train)"
   ]
  },
  {
   "cell_type": "code",
   "execution_count": 23,
   "metadata": {},
   "outputs": [],
   "source": [
    "#flatten y data\n",
    "Y_train = np.ravel(Y_train)"
   ]
  },
  {
   "cell_type": "code",
   "execution_count": 24,
   "metadata": {},
   "outputs": [
    {
     "data": {
      "text/plain": [
       "RandomForestRegressor(bootstrap=True, criterion='mse', max_depth=None,\n",
       "                      max_features='auto', max_leaf_nodes=None,\n",
       "                      min_impurity_decrease=0.0, min_impurity_split=None,\n",
       "                      min_samples_leaf=1, min_samples_split=2,\n",
       "                      min_weight_fraction_leaf=0.0, n_estimators=1000,\n",
       "                      n_jobs=None, oob_score=False, random_state=0, verbose=0,\n",
       "                      warm_start=False)"
      ]
     },
     "execution_count": 24,
     "metadata": {},
     "output_type": "execute_result"
    }
   ],
   "source": [
    "#fit the random forest regressor with training data\n",
    "reg.fit(X_train, Y_train)"
   ]
  },
  {
   "cell_type": "code",
   "execution_count": 25,
   "metadata": {},
   "outputs": [],
   "source": [
    "#find predicted y values from the split data set\n",
    "y_pred = reg.predict(X_test)"
   ]
  },
  {
   "cell_type": "code",
   "execution_count": null,
   "metadata": {},
   "outputs": [],
   "source": []
  },
  {
   "cell_type": "code",
   "execution_count": 26,
   "metadata": {},
   "outputs": [
    {
     "data": {
      "text/plain": [
       "0.8418373729456736"
      ]
     },
     "execution_count": 26,
     "metadata": {},
     "output_type": "execute_result"
    }
   ],
   "source": [
    "#find variance\n",
    "from sklearn.metrics import explained_variance_score, max_error, mean_absolute_error, mean_squared_error, r2_score\n",
    "\n",
    "explained_variance_score(Y_test, y_pred)"
   ]
  },
  {
   "cell_type": "code",
   "execution_count": 27,
   "metadata": {},
   "outputs": [
    {
     "data": {
      "text/plain": [
       "208.302"
      ]
     },
     "execution_count": 27,
     "metadata": {},
     "output_type": "execute_result"
    }
   ],
   "source": [
    "#calculate max error, difference, between the test and the predicted y\n",
    "max_error(Y_test, y_pred)"
   ]
  },
  {
   "cell_type": "code",
   "execution_count": 28,
   "metadata": {},
   "outputs": [
    {
     "name": "stdout",
     "output_type": "stream",
     "text": [
      "44.75573741794311\n",
      "3586.860128201313\n",
      "0.8418345848314094\n"
     ]
    }
   ],
   "source": [
    "#statistical analysis from \n",
    "print(mean_absolute_error(Y_test, y_pred))\n",
    "print(mean_squared_error(Y_test, y_pred))\n",
    "print(r2_score(Y_test, y_pred, multioutput='variance_weighted'))"
   ]
  },
  {
   "cell_type": "code",
   "execution_count": 29,
   "metadata": {},
   "outputs": [
    {
     "data": {
      "text/plain": [
       "array([4.97870667e-02, 9.06485170e-02, 2.37991246e-02, 3.72080168e-01,\n",
       "       4.84677873e-02, 7.01861583e-02, 8.21329674e-05, 2.83122154e-02,\n",
       "       2.60784030e-02, 8.82845350e-02, 1.93906405e-02, 4.03312784e-02,\n",
       "       2.86144499e-02, 2.52589295e-02, 5.25175983e-02, 3.61609951e-02])"
      ]
     },
     "execution_count": 29,
     "metadata": {},
     "output_type": "execute_result"
    }
   ],
   "source": [
    "#find feature importance\n",
    "reg.feature_importances_"
   ]
  },
  {
   "cell_type": "code",
   "execution_count": 30,
   "metadata": {},
   "outputs": [],
   "source": [
    "#feature index\n",
    "fet_ind = np.argsort(reg.feature_importances_)[::-1]"
   ]
  },
  {
   "cell_type": "code",
   "execution_count": 31,
   "metadata": {},
   "outputs": [],
   "source": [
    "#feature importance\n",
    "fet_imp = reg.feature_importances_[np.argsort(reg.feature_importances_)][::-1]"
   ]
  },
  {
   "cell_type": "code",
   "execution_count": 32,
   "metadata": {},
   "outputs": [
    {
     "data": {
      "text/plain": [
       "(1826, 17)"
      ]
     },
     "execution_count": 32,
     "metadata": {},
     "output_type": "execute_result"
    }
   ],
   "source": [
    "dataset.shape"
   ]
  },
  {
   "cell_type": "code",
   "execution_count": 33,
   "metadata": {},
   "outputs": [
    {
     "data": {
      "text/plain": [
       "Index(['CenterFrameRollRate_RotPot', 'CenterFrameRoll_LVDT',\n",
       "       'CylinderPressure', 'Speed', 'TiltUp', 'TiltDown', 'Condition',\n",
       "       'InletPress', 'ChassisPitchRate', 'ChassisRollAngle', 'ChassisRollRate',\n",
       "       'ChassisYawRate', 'RightFront', 'LeftFront', 'RightBack', 'LeftBack'],\n",
       "      dtype='object')"
      ]
     },
     "execution_count": 33,
     "metadata": {},
     "output_type": "execute_result"
    }
   ],
   "source": [
    "z = dataset.columns[1:17]\n",
    "z"
   ]
  },
  {
   "cell_type": "code",
   "execution_count": 34,
   "metadata": {},
   "outputs": [
    {
     "data": {
      "text/plain": [
       "Index(['Speed', 'CenterFrameRoll_LVDT', 'ChassisRollAngle', 'TiltDown',\n",
       "       'RightBack', 'CenterFrameRollRate_RotPot', 'TiltUp', 'ChassisYawRate',\n",
       "       'LeftBack', 'RightFront', 'InletPress', 'ChassisPitchRate', 'LeftFront',\n",
       "       'CylinderPressure', 'ChassisRollRate', 'Condition'],\n",
       "      dtype='object')"
      ]
     },
     "execution_count": 34,
     "metadata": {},
     "output_type": "execute_result"
    }
   ],
   "source": [
    "#mask the different features based off index ranking\n",
    "z[fet_ind]"
   ]
  },
  {
   "cell_type": "code",
   "execution_count": 35,
   "metadata": {},
   "outputs": [
    {
     "data": {
      "image/png": "[encoded data removed]",
      "text/plain": [
       "<Figure size 576x216 with 1 Axes>"
      ]
     },
     "metadata": {
      "needs_background": "light"
     },
     "output_type": "display_data"
    }
   ],
   "source": [
    "#create figure of feature importance of Starting/Stopping & Running\n",
    "fig, ax = plt.subplots(1,1,figsize=(8,3))\n",
    "labels = z[fet_ind]\n",
    "pd.Series(fet_imp, index = labels).plot('bar', ax=ax)\n",
    "ax.set_title('Features Importance - Starting/Stopping & Running')\n",
    "plt.savefig('FeatureImportanceAll.png', tight_layout= True)"
   ]
  },
  {
   "cell_type": "code",
   "execution_count": 36,
   "metadata": {},
   "outputs": [
    {
     "data": {
      "text/plain": [
       "Text(0, 0.5, 'Value of Max Error [mm]')"
      ]
     },
     "execution_count": 36,
     "metadata": {},
     "output_type": "execute_result"
    },
    {
     "data": {
      "image/png": "[encoded data removed]",
      "text/plain": [
       "<Figure size 576x216 with 1 Axes>"
      ]
     },
     "metadata": {
      "needs_background": "light"
     },
     "output_type": "display_data"
    }
   ],
   "source": [
    "fig, ax = plt.subplots(1,1,figsize=(8,3))\n",
    "\n",
    "ax.scatter(X[:, 1], Y)\n",
    "ax.set_xlabel('CenterFrameRoll_LVDT')\n",
    "ax.set_ylabel('Value of Max Error [mm]')"
   ]
  },
  {
   "cell_type": "code",
   "execution_count": 37,
   "metadata": {},
   "outputs": [],
   "source": [
    "from sklearn import tree"
   ]
  },
  {
   "cell_type": "code",
   "execution_count": 38,
   "metadata": {},
   "outputs": [],
   "source": [
    "tree.export_graphviz(reg.estimators_[0], 'tree.dot')"
   ]
  },
  {
   "cell_type": "code",
   "execution_count": 39,
   "metadata": {},
   "outputs": [],
   "source": [
    "#export tree for decision tree\n",
    "tree.export_graphviz(reg.estimators_[5], 'tree2.dot', feature_names = z, rounded = True, precision = 1)"
   ]
  },
  {
   "cell_type": "code",
   "execution_count": 40,
   "metadata": {},
   "outputs": [],
   "source": [
    "mask1 = (dataset.Condition == 1)\n"
   ]
  },
  {
   "cell_type": "code",
   "execution_count": 41,
   "metadata": {},
   "outputs": [
    {
     "data": {
      "text/html": [
       "<div>\n",
       "<style scoped>\n",
       "    .dataframe tbody tr th:only-of-type {\n",
       "        vertical-align: middle;\n",
       "    }\n",
       "\n",
       "    .dataframe tbody tr th {\n",
       "        vertical-align: top;\n",
       "    }\n",
       "\n",
       "    .dataframe thead th {\n",
       "        text-align: right;\n",
       "    }\n",
       "</style>\n",
       "<table border=\"1\" class=\"dataframe\">\n",
       "  <thead>\n",
       "    <tr style=\"text-align: right;\">\n",
       "      <th></th>\n",
       "      <th>MaxError</th>\n",
       "      <th>CenterFrameRollRate_RotPot</th>\n",
       "      <th>CenterFrameRoll_LVDT</th>\n",
       "      <th>CylinderPressure</th>\n",
       "      <th>Speed</th>\n",
       "      <th>TiltUp</th>\n",
       "      <th>TiltDown</th>\n",
       "      <th>Condition</th>\n",
       "      <th>InletPress</th>\n",
       "      <th>ChassisPitchRate</th>\n",
       "      <th>ChassisRollAngle</th>\n",
       "      <th>ChassisRollRate</th>\n",
       "      <th>ChassisYawRate</th>\n",
       "      <th>RightFront</th>\n",
       "      <th>LeftFront</th>\n",
       "      <th>RightBack</th>\n",
       "      <th>LeftBack</th>\n",
       "    </tr>\n",
       "  </thead>\n",
       "  <tbody>\n",
       "    <tr>\n",
       "      <th>402</th>\n",
       "      <td>339</td>\n",
       "      <td>0.3</td>\n",
       "      <td>0.851562</td>\n",
       "      <td>1878</td>\n",
       "      <td>16.644531</td>\n",
       "      <td>0</td>\n",
       "      <td>522</td>\n",
       "      <td>1</td>\n",
       "      <td>2667</td>\n",
       "      <td>1.789062</td>\n",
       "      <td>-0.941759</td>\n",
       "      <td>1.492188</td>\n",
       "      <td>-1.726562</td>\n",
       "      <td>1834</td>\n",
       "      <td>1635</td>\n",
       "      <td>1696</td>\n",
       "      <td>1480</td>\n",
       "    </tr>\n",
       "    <tr>\n",
       "      <th>403</th>\n",
       "      <td>339</td>\n",
       "      <td>0.3</td>\n",
       "      <td>0.796875</td>\n",
       "      <td>1992</td>\n",
       "      <td>16.644531</td>\n",
       "      <td>0</td>\n",
       "      <td>522</td>\n",
       "      <td>1</td>\n",
       "      <td>2619</td>\n",
       "      <td>1.687500</td>\n",
       "      <td>-0.943369</td>\n",
       "      <td>1.132812</td>\n",
       "      <td>-1.765625</td>\n",
       "      <td>1823</td>\n",
       "      <td>1658</td>\n",
       "      <td>1672</td>\n",
       "      <td>1461</td>\n",
       "    </tr>\n",
       "    <tr>\n",
       "      <th>404</th>\n",
       "      <td>339</td>\n",
       "      <td>0.2</td>\n",
       "      <td>0.789062</td>\n",
       "      <td>2102</td>\n",
       "      <td>16.644531</td>\n",
       "      <td>0</td>\n",
       "      <td>559</td>\n",
       "      <td>1</td>\n",
       "      <td>2631</td>\n",
       "      <td>1.960938</td>\n",
       "      <td>-0.945176</td>\n",
       "      <td>0.773438</td>\n",
       "      <td>-1.773438</td>\n",
       "      <td>1883</td>\n",
       "      <td>1712</td>\n",
       "      <td>1701</td>\n",
       "      <td>1468</td>\n",
       "    </tr>\n",
       "    <tr>\n",
       "      <th>405</th>\n",
       "      <td>339</td>\n",
       "      <td>-0.1</td>\n",
       "      <td>0.687500</td>\n",
       "      <td>2102</td>\n",
       "      <td>16.644531</td>\n",
       "      <td>380</td>\n",
       "      <td>541</td>\n",
       "      <td>1</td>\n",
       "      <td>2503</td>\n",
       "      <td>2.195312</td>\n",
       "      <td>-0.951094</td>\n",
       "      <td>1.421875</td>\n",
       "      <td>-2.023438</td>\n",
       "      <td>1909</td>\n",
       "      <td>1707</td>\n",
       "      <td>1670</td>\n",
       "      <td>1445</td>\n",
       "    </tr>\n",
       "    <tr>\n",
       "      <th>406</th>\n",
       "      <td>312</td>\n",
       "      <td>-0.1</td>\n",
       "      <td>0.585938</td>\n",
       "      <td>2143</td>\n",
       "      <td>16.644531</td>\n",
       "      <td>380</td>\n",
       "      <td>531</td>\n",
       "      <td>1</td>\n",
       "      <td>2455</td>\n",
       "      <td>2.468750</td>\n",
       "      <td>-0.947326</td>\n",
       "      <td>1.414062</td>\n",
       "      <td>-1.875000</td>\n",
       "      <td>1916</td>\n",
       "      <td>1726</td>\n",
       "      <td>1663</td>\n",
       "      <td>1428</td>\n",
       "    </tr>\n",
       "  </tbody>\n",
       "</table>\n",
       "</div>"
      ],
      "text/plain": [
       "     MaxError  CenterFrameRollRate_RotPot  CenterFrameRoll_LVDT  \\\n",
       "402       339                         0.3              0.851562   \n",
       "403       339                         0.3              0.796875   \n",
       "404       339                         0.2              0.789062   \n",
       "405       339                        -0.1              0.687500   \n",
       "406       312                        -0.1              0.585938   \n",
       "\n",
       "     CylinderPressure      Speed  TiltUp  TiltDown  Condition  InletPress  \\\n",
       "402              1878  16.644531       0       522          1        2667   \n",
       "403              1992  16.644531       0       522          1        2619   \n",
       "404              2102  16.644531       0       559          1        2631   \n",
       "405              2102  16.644531     380       541          1        2503   \n",
       "406              2143  16.644531     380       531          1        2455   \n",
       "\n",
       "     ChassisPitchRate  ChassisRollAngle  ChassisRollRate  ChassisYawRate  \\\n",
       "402          1.789062         -0.941759         1.492188       -1.726562   \n",
       "403          1.687500         -0.943369         1.132812       -1.765625   \n",
       "404          1.960938         -0.945176         0.773438       -1.773438   \n",
       "405          2.195312         -0.951094         1.421875       -2.023438   \n",
       "406          2.468750         -0.947326         1.414062       -1.875000   \n",
       "\n",
       "     RightFront  LeftFront  RightBack  LeftBack  \n",
       "402        1834       1635       1696      1480  \n",
       "403        1823       1658       1672      1461  \n",
       "404        1883       1712       1701      1468  \n",
       "405        1909       1707       1670      1445  \n",
       "406        1916       1726       1663      1428  "
      ]
     },
     "execution_count": 41,
     "metadata": {},
     "output_type": "execute_result"
    }
   ],
   "source": [
    "dataset2 = dataset[mask1]\n",
    "dataset2.head()"
   ]
  },
  {
   "cell_type": "code",
   "execution_count": 42,
   "metadata": {},
   "outputs": [
    {
     "data": {
      "text/html": [
       "<div>\n",
       "<style scoped>\n",
       "    .dataframe tbody tr th:only-of-type {\n",
       "        vertical-align: middle;\n",
       "    }\n",
       "\n",
       "    .dataframe tbody tr th {\n",
       "        vertical-align: top;\n",
       "    }\n",
       "\n",
       "    .dataframe thead th {\n",
       "        text-align: right;\n",
       "    }\n",
       "</style>\n",
       "<table border=\"1\" class=\"dataframe\">\n",
       "  <thead>\n",
       "    <tr style=\"text-align: right;\">\n",
       "      <th></th>\n",
       "      <th>MaxError</th>\n",
       "      <th>CenterFrameRollRate_RotPot</th>\n",
       "      <th>CenterFrameRoll_LVDT</th>\n",
       "      <th>CylinderPressure</th>\n",
       "      <th>Speed</th>\n",
       "      <th>TiltUp</th>\n",
       "      <th>TiltDown</th>\n",
       "      <th>InletPress</th>\n",
       "      <th>ChassisPitchRate</th>\n",
       "      <th>ChassisRollAngle</th>\n",
       "      <th>ChassisRollRate</th>\n",
       "      <th>ChassisYawRate</th>\n",
       "      <th>RightFront</th>\n",
       "      <th>LeftFront</th>\n",
       "      <th>RightBack</th>\n",
       "      <th>LeftBack</th>\n",
       "    </tr>\n",
       "  </thead>\n",
       "  <tbody>\n",
       "    <tr>\n",
       "      <th>402</th>\n",
       "      <td>339</td>\n",
       "      <td>0.3</td>\n",
       "      <td>0.851562</td>\n",
       "      <td>1878</td>\n",
       "      <td>16.644531</td>\n",
       "      <td>0</td>\n",
       "      <td>522</td>\n",
       "      <td>2667</td>\n",
       "      <td>1.789062</td>\n",
       "      <td>-0.941759</td>\n",
       "      <td>1.492188</td>\n",
       "      <td>-1.726562</td>\n",
       "      <td>1834</td>\n",
       "      <td>1635</td>\n",
       "      <td>1696</td>\n",
       "      <td>1480</td>\n",
       "    </tr>\n",
       "    <tr>\n",
       "      <th>403</th>\n",
       "      <td>339</td>\n",
       "      <td>0.3</td>\n",
       "      <td>0.796875</td>\n",
       "      <td>1992</td>\n",
       "      <td>16.644531</td>\n",
       "      <td>0</td>\n",
       "      <td>522</td>\n",
       "      <td>2619</td>\n",
       "      <td>1.687500</td>\n",
       "      <td>-0.943369</td>\n",
       "      <td>1.132812</td>\n",
       "      <td>-1.765625</td>\n",
       "      <td>1823</td>\n",
       "      <td>1658</td>\n",
       "      <td>1672</td>\n",
       "      <td>1461</td>\n",
       "    </tr>\n",
       "    <tr>\n",
       "      <th>404</th>\n",
       "      <td>339</td>\n",
       "      <td>0.2</td>\n",
       "      <td>0.789062</td>\n",
       "      <td>2102</td>\n",
       "      <td>16.644531</td>\n",
       "      <td>0</td>\n",
       "      <td>559</td>\n",
       "      <td>2631</td>\n",
       "      <td>1.960938</td>\n",
       "      <td>-0.945176</td>\n",
       "      <td>0.773438</td>\n",
       "      <td>-1.773438</td>\n",
       "      <td>1883</td>\n",
       "      <td>1712</td>\n",
       "      <td>1701</td>\n",
       "      <td>1468</td>\n",
       "    </tr>\n",
       "    <tr>\n",
       "      <th>405</th>\n",
       "      <td>339</td>\n",
       "      <td>-0.1</td>\n",
       "      <td>0.687500</td>\n",
       "      <td>2102</td>\n",
       "      <td>16.644531</td>\n",
       "      <td>380</td>\n",
       "      <td>541</td>\n",
       "      <td>2503</td>\n",
       "      <td>2.195312</td>\n",
       "      <td>-0.951094</td>\n",
       "      <td>1.421875</td>\n",
       "      <td>-2.023438</td>\n",
       "      <td>1909</td>\n",
       "      <td>1707</td>\n",
       "      <td>1670</td>\n",
       "      <td>1445</td>\n",
       "    </tr>\n",
       "    <tr>\n",
       "      <th>406</th>\n",
       "      <td>312</td>\n",
       "      <td>-0.1</td>\n",
       "      <td>0.585938</td>\n",
       "      <td>2143</td>\n",
       "      <td>16.644531</td>\n",
       "      <td>380</td>\n",
       "      <td>531</td>\n",
       "      <td>2455</td>\n",
       "      <td>2.468750</td>\n",
       "      <td>-0.947326</td>\n",
       "      <td>1.414062</td>\n",
       "      <td>-1.875000</td>\n",
       "      <td>1916</td>\n",
       "      <td>1726</td>\n",
       "      <td>1663</td>\n",
       "      <td>1428</td>\n",
       "    </tr>\n",
       "  </tbody>\n",
       "</table>\n",
       "</div>"
      ],
      "text/plain": [
       "     MaxError  CenterFrameRollRate_RotPot  CenterFrameRoll_LVDT  \\\n",
       "402       339                         0.3              0.851562   \n",
       "403       339                         0.3              0.796875   \n",
       "404       339                         0.2              0.789062   \n",
       "405       339                        -0.1              0.687500   \n",
       "406       312                        -0.1              0.585938   \n",
       "\n",
       "     CylinderPressure      Speed  TiltUp  TiltDown  InletPress  \\\n",
       "402              1878  16.644531       0       522        2667   \n",
       "403              1992  16.644531       0       522        2619   \n",
       "404              2102  16.644531       0       559        2631   \n",
       "405              2102  16.644531     380       541        2503   \n",
       "406              2143  16.644531     380       531        2455   \n",
       "\n",
       "     ChassisPitchRate  ChassisRollAngle  ChassisRollRate  ChassisYawRate  \\\n",
       "402          1.789062         -0.941759         1.492188       -1.726562   \n",
       "403          1.687500         -0.943369         1.132812       -1.765625   \n",
       "404          1.960938         -0.945176         0.773438       -1.773438   \n",
       "405          2.195312         -0.951094         1.421875       -2.023438   \n",
       "406          2.468750         -0.947326         1.414062       -1.875000   \n",
       "\n",
       "     RightFront  LeftFront  RightBack  LeftBack  \n",
       "402        1834       1635       1696      1480  \n",
       "403        1823       1658       1672      1461  \n",
       "404        1883       1712       1701      1468  \n",
       "405        1909       1707       1670      1445  \n",
       "406        1916       1726       1663      1428  "
      ]
     },
     "execution_count": 42,
     "metadata": {},
     "output_type": "execute_result"
    }
   ],
   "source": [
    "#create new dataset of only running values and condition erased\n",
    "dataset3 = dataset2.drop(columns=\"Condition\")\n",
    "dataset3.head()"
   ]
  },
  {
   "cell_type": "code",
   "execution_count": 43,
   "metadata": {},
   "outputs": [
    {
     "data": {
      "text/plain": [
       "Text(0.5, 1.0, 'Scatter of Max Error vs Center Frame Roll LVDT')"
      ]
     },
     "execution_count": 43,
     "metadata": {},
     "output_type": "execute_result"
    },
    {
     "data": {
      "image/png": "[encoded data removed]",
      "text/plain": [
       "<Figure size 432x288 with 1 Axes>"
      ]
     },
     "metadata": {
      "needs_background": "light"
     },
     "output_type": "display_data"
    }
   ],
   "source": [
    "#scatter difference between the mask values\n",
    "plt.scatter(dataset.CenterFrameRoll_LVDT[mask1], dataset.MaxError[mask1])\n",
    "plt.scatter(dataset.CenterFrameRoll_LVDT[~mask1], dataset.MaxError[~mask1], color ='Red')\n",
    "plt.legend(['Running' , 'Starting/Stopping'])\n",
    "plt.xlabel('CenterFrameRoll_LVDT')\n",
    "plt.ylabel('Value of Max Error [mm]')\n",
    "plt.title('Scatter of Max Error vs Center Frame Roll LVDT')"
   ]
  },
  {
   "cell_type": "code",
   "execution_count": 44,
   "metadata": {},
   "outputs": [
    {
     "data": {
      "text/html": [
       "<div>\n",
       "<style scoped>\n",
       "    .dataframe tbody tr th:only-of-type {\n",
       "        vertical-align: middle;\n",
       "    }\n",
       "\n",
       "    .dataframe tbody tr th {\n",
       "        vertical-align: top;\n",
       "    }\n",
       "\n",
       "    .dataframe thead th {\n",
       "        text-align: right;\n",
       "    }\n",
       "</style>\n",
       "<table border=\"1\" class=\"dataframe\">\n",
       "  <thead>\n",
       "    <tr style=\"text-align: right;\">\n",
       "      <th></th>\n",
       "      <th>MaxError</th>\n",
       "      <th>CenterFrameRollRate_RotPot</th>\n",
       "      <th>CenterFrameRoll_LVDT</th>\n",
       "      <th>CylinderPressure</th>\n",
       "      <th>Speed</th>\n",
       "      <th>TiltUp</th>\n",
       "      <th>TiltDown</th>\n",
       "      <th>InletPress</th>\n",
       "      <th>ChassisPitchRate</th>\n",
       "      <th>ChassisRollAngle</th>\n",
       "      <th>ChassisRollRate</th>\n",
       "      <th>ChassisYawRate</th>\n",
       "      <th>RightFront</th>\n",
       "      <th>LeftFront</th>\n",
       "      <th>RightBack</th>\n",
       "      <th>LeftBack</th>\n",
       "    </tr>\n",
       "  </thead>\n",
       "  <tbody>\n",
       "    <tr>\n",
       "      <th>MaxError</th>\n",
       "      <td>1.000000</td>\n",
       "      <td>0.014615</td>\n",
       "      <td>-0.095802</td>\n",
       "      <td>-0.177943</td>\n",
       "      <td>0.134828</td>\n",
       "      <td>-0.175111</td>\n",
       "      <td>0.338361</td>\n",
       "      <td>0.031745</td>\n",
       "      <td>-0.077517</td>\n",
       "      <td>0.099796</td>\n",
       "      <td>-0.038060</td>\n",
       "      <td>-0.129737</td>\n",
       "      <td>-0.159369</td>\n",
       "      <td>-0.067412</td>\n",
       "      <td>0.284740</td>\n",
       "      <td>0.172385</td>\n",
       "    </tr>\n",
       "    <tr>\n",
       "      <th>CenterFrameRollRate_RotPot</th>\n",
       "      <td>0.014615</td>\n",
       "      <td>1.000000</td>\n",
       "      <td>0.411705</td>\n",
       "      <td>-0.277282</td>\n",
       "      <td>-0.074495</td>\n",
       "      <td>-0.058546</td>\n",
       "      <td>0.131313</td>\n",
       "      <td>0.057689</td>\n",
       "      <td>-0.096415</td>\n",
       "      <td>0.021439</td>\n",
       "      <td>-0.064871</td>\n",
       "      <td>0.280388</td>\n",
       "      <td>-0.077886</td>\n",
       "      <td>-0.032643</td>\n",
       "      <td>0.209818</td>\n",
       "      <td>0.191361</td>\n",
       "    </tr>\n",
       "    <tr>\n",
       "      <th>CenterFrameRoll_LVDT</th>\n",
       "      <td>-0.095802</td>\n",
       "      <td>0.411705</td>\n",
       "      <td>1.000000</td>\n",
       "      <td>-0.188704</td>\n",
       "      <td>-0.138542</td>\n",
       "      <td>-0.010472</td>\n",
       "      <td>-0.027801</td>\n",
       "      <td>-0.184105</td>\n",
       "      <td>-0.028695</td>\n",
       "      <td>-0.453082</td>\n",
       "      <td>-0.104914</td>\n",
       "      <td>0.069163</td>\n",
       "      <td>0.036940</td>\n",
       "      <td>-0.059268</td>\n",
       "      <td>0.223732</td>\n",
       "      <td>-0.074046</td>\n",
       "    </tr>\n",
       "    <tr>\n",
       "      <th>CylinderPressure</th>\n",
       "      <td>-0.177943</td>\n",
       "      <td>-0.277282</td>\n",
       "      <td>-0.188704</td>\n",
       "      <td>1.000000</td>\n",
       "      <td>-0.032273</td>\n",
       "      <td>0.364709</td>\n",
       "      <td>-0.272328</td>\n",
       "      <td>0.036744</td>\n",
       "      <td>0.028614</td>\n",
       "      <td>0.045496</td>\n",
       "      <td>-0.052803</td>\n",
       "      <td>0.082497</td>\n",
       "      <td>0.002424</td>\n",
       "      <td>0.030980</td>\n",
       "      <td>-0.423992</td>\n",
       "      <td>-0.269075</td>\n",
       "    </tr>\n",
       "    <tr>\n",
       "      <th>Speed</th>\n",
       "      <td>0.134828</td>\n",
       "      <td>-0.074495</td>\n",
       "      <td>-0.138542</td>\n",
       "      <td>-0.032273</td>\n",
       "      <td>1.000000</td>\n",
       "      <td>-0.185965</td>\n",
       "      <td>0.018736</td>\n",
       "      <td>-0.010909</td>\n",
       "      <td>-0.201812</td>\n",
       "      <td>0.136267</td>\n",
       "      <td>0.104947</td>\n",
       "      <td>0.100226</td>\n",
       "      <td>-0.271919</td>\n",
       "      <td>-0.187440</td>\n",
       "      <td>-0.013828</td>\n",
       "      <td>0.273377</td>\n",
       "    </tr>\n",
       "    <tr>\n",
       "      <th>TiltUp</th>\n",
       "      <td>-0.175111</td>\n",
       "      <td>-0.058546</td>\n",
       "      <td>-0.010472</td>\n",
       "      <td>0.364709</td>\n",
       "      <td>-0.185965</td>\n",
       "      <td>1.000000</td>\n",
       "      <td>-0.234748</td>\n",
       "      <td>0.082038</td>\n",
       "      <td>-0.095903</td>\n",
       "      <td>0.040192</td>\n",
       "      <td>-0.173791</td>\n",
       "      <td>0.118032</td>\n",
       "      <td>0.054483</td>\n",
       "      <td>0.091050</td>\n",
       "      <td>-0.258520</td>\n",
       "      <td>-0.160159</td>\n",
       "    </tr>\n",
       "    <tr>\n",
       "      <th>TiltDown</th>\n",
       "      <td>0.338361</td>\n",
       "      <td>0.131313</td>\n",
       "      <td>-0.027801</td>\n",
       "      <td>-0.272328</td>\n",
       "      <td>0.018736</td>\n",
       "      <td>-0.234748</td>\n",
       "      <td>1.000000</td>\n",
       "      <td>0.075383</td>\n",
       "      <td>0.027315</td>\n",
       "      <td>0.157909</td>\n",
       "      <td>0.036871</td>\n",
       "      <td>-0.128619</td>\n",
       "      <td>-0.124481</td>\n",
       "      <td>-0.030928</td>\n",
       "      <td>0.152299</td>\n",
       "      <td>0.231653</td>\n",
       "    </tr>\n",
       "    <tr>\n",
       "      <th>InletPress</th>\n",
       "      <td>0.031745</td>\n",
       "      <td>0.057689</td>\n",
       "      <td>-0.184105</td>\n",
       "      <td>0.036744</td>\n",
       "      <td>-0.010909</td>\n",
       "      <td>0.082038</td>\n",
       "      <td>0.075383</td>\n",
       "      <td>1.000000</td>\n",
       "      <td>-0.363091</td>\n",
       "      <td>0.209505</td>\n",
       "      <td>-0.034410</td>\n",
       "      <td>0.110252</td>\n",
       "      <td>-0.078285</td>\n",
       "      <td>0.139354</td>\n",
       "      <td>0.016036</td>\n",
       "      <td>0.064951</td>\n",
       "    </tr>\n",
       "    <tr>\n",
       "      <th>ChassisPitchRate</th>\n",
       "      <td>-0.077517</td>\n",
       "      <td>-0.096415</td>\n",
       "      <td>-0.028695</td>\n",
       "      <td>0.028614</td>\n",
       "      <td>-0.201812</td>\n",
       "      <td>-0.095903</td>\n",
       "      <td>0.027315</td>\n",
       "      <td>-0.363091</td>\n",
       "      <td>1.000000</td>\n",
       "      <td>-0.057238</td>\n",
       "      <td>0.033617</td>\n",
       "      <td>-0.284134</td>\n",
       "      <td>-0.113284</td>\n",
       "      <td>-0.058616</td>\n",
       "      <td>0.121095</td>\n",
       "      <td>0.020737</td>\n",
       "    </tr>\n",
       "    <tr>\n",
       "      <th>ChassisRollAngle</th>\n",
       "      <td>0.099796</td>\n",
       "      <td>0.021439</td>\n",
       "      <td>-0.453082</td>\n",
       "      <td>0.045496</td>\n",
       "      <td>0.136267</td>\n",
       "      <td>0.040192</td>\n",
       "      <td>0.157909</td>\n",
       "      <td>0.209505</td>\n",
       "      <td>-0.057238</td>\n",
       "      <td>1.000000</td>\n",
       "      <td>-0.028640</td>\n",
       "      <td>0.013025</td>\n",
       "      <td>-0.462739</td>\n",
       "      <td>0.404372</td>\n",
       "      <td>-0.352118</td>\n",
       "      <td>0.514602</td>\n",
       "    </tr>\n",
       "    <tr>\n",
       "      <th>ChassisRollRate</th>\n",
       "      <td>-0.038060</td>\n",
       "      <td>-0.064871</td>\n",
       "      <td>-0.104914</td>\n",
       "      <td>-0.052803</td>\n",
       "      <td>0.104947</td>\n",
       "      <td>-0.173791</td>\n",
       "      <td>0.036871</td>\n",
       "      <td>-0.034410</td>\n",
       "      <td>0.033617</td>\n",
       "      <td>-0.028640</td>\n",
       "      <td>1.000000</td>\n",
       "      <td>-0.252308</td>\n",
       "      <td>0.205148</td>\n",
       "      <td>-0.172023</td>\n",
       "      <td>-0.076853</td>\n",
       "      <td>0.102571</td>\n",
       "    </tr>\n",
       "    <tr>\n",
       "      <th>ChassisYawRate</th>\n",
       "      <td>-0.129737</td>\n",
       "      <td>0.280388</td>\n",
       "      <td>0.069163</td>\n",
       "      <td>0.082497</td>\n",
       "      <td>0.100226</td>\n",
       "      <td>0.118032</td>\n",
       "      <td>-0.128619</td>\n",
       "      <td>0.110252</td>\n",
       "      <td>-0.284134</td>\n",
       "      <td>0.013025</td>\n",
       "      <td>-0.252308</td>\n",
       "      <td>1.000000</td>\n",
       "      <td>0.022213</td>\n",
       "      <td>-0.094384</td>\n",
       "      <td>-0.031623</td>\n",
       "      <td>-0.144877</td>\n",
       "    </tr>\n",
       "    <tr>\n",
       "      <th>RightFront</th>\n",
       "      <td>-0.159369</td>\n",
       "      <td>-0.077886</td>\n",
       "      <td>0.036940</td>\n",
       "      <td>0.002424</td>\n",
       "      <td>-0.271919</td>\n",
       "      <td>0.054483</td>\n",
       "      <td>-0.124481</td>\n",
       "      <td>-0.078285</td>\n",
       "      <td>-0.113284</td>\n",
       "      <td>-0.462739</td>\n",
       "      <td>0.205148</td>\n",
       "      <td>0.022213</td>\n",
       "      <td>1.000000</td>\n",
       "      <td>-0.049516</td>\n",
       "      <td>0.032479</td>\n",
       "      <td>-0.372708</td>\n",
       "    </tr>\n",
       "    <tr>\n",
       "      <th>LeftFront</th>\n",
       "      <td>-0.067412</td>\n",
       "      <td>-0.032643</td>\n",
       "      <td>-0.059268</td>\n",
       "      <td>0.030980</td>\n",
       "      <td>-0.187440</td>\n",
       "      <td>0.091050</td>\n",
       "      <td>-0.030928</td>\n",
       "      <td>0.139354</td>\n",
       "      <td>-0.058616</td>\n",
       "      <td>0.404372</td>\n",
       "      <td>-0.172023</td>\n",
       "      <td>-0.094384</td>\n",
       "      <td>-0.049516</td>\n",
       "      <td>1.000000</td>\n",
       "      <td>-0.316647</td>\n",
       "      <td>0.152636</td>\n",
       "    </tr>\n",
       "    <tr>\n",
       "      <th>RightBack</th>\n",
       "      <td>0.284740</td>\n",
       "      <td>0.209818</td>\n",
       "      <td>0.223732</td>\n",
       "      <td>-0.423992</td>\n",
       "      <td>-0.013828</td>\n",
       "      <td>-0.258520</td>\n",
       "      <td>0.152299</td>\n",
       "      <td>0.016036</td>\n",
       "      <td>0.121095</td>\n",
       "      <td>-0.352118</td>\n",
       "      <td>-0.076853</td>\n",
       "      <td>-0.031623</td>\n",
       "      <td>0.032479</td>\n",
       "      <td>-0.316647</td>\n",
       "      <td>1.000000</td>\n",
       "      <td>0.046106</td>\n",
       "    </tr>\n",
       "    <tr>\n",
       "      <th>LeftBack</th>\n",
       "      <td>0.172385</td>\n",
       "      <td>0.191361</td>\n",
       "      <td>-0.074046</td>\n",
       "      <td>-0.269075</td>\n",
       "      <td>0.273377</td>\n",
       "      <td>-0.160159</td>\n",
       "      <td>0.231653</td>\n",
       "      <td>0.064951</td>\n",
       "      <td>0.020737</td>\n",
       "      <td>0.514602</td>\n",
       "      <td>0.102571</td>\n",
       "      <td>-0.144877</td>\n",
       "      <td>-0.372708</td>\n",
       "      <td>0.152636</td>\n",
       "      <td>0.046106</td>\n",
       "      <td>1.000000</td>\n",
       "    </tr>\n",
       "  </tbody>\n",
       "</table>\n",
       "</div>"
      ],
      "text/plain": [
       "                            MaxError  CenterFrameRollRate_RotPot  \\\n",
       "MaxError                    1.000000                    0.014615   \n",
       "CenterFrameRollRate_RotPot  0.014615                    1.000000   \n",
       "CenterFrameRoll_LVDT       -0.095802                    0.411705   \n",
       "CylinderPressure           -0.177943                   -0.277282   \n",
       "Speed                       0.134828                   -0.074495   \n",
       "TiltUp                     -0.175111                   -0.058546   \n",
       "TiltDown                    0.338361                    0.131313   \n",
       "InletPress                  0.031745                    0.057689   \n",
       "ChassisPitchRate           -0.077517                   -0.096415   \n",
       "ChassisRollAngle            0.099796                    0.021439   \n",
       "ChassisRollRate            -0.038060                   -0.064871   \n",
       "ChassisYawRate             -0.129737                    0.280388   \n",
       "RightFront                 -0.159369                   -0.077886   \n",
       "LeftFront                  -0.067412                   -0.032643   \n",
       "RightBack                   0.284740                    0.209818   \n",
       "LeftBack                    0.172385                    0.191361   \n",
       "\n",
       "                            CenterFrameRoll_LVDT  CylinderPressure     Speed  \\\n",
       "MaxError                               -0.095802         -0.177943  0.134828   \n",
       "CenterFrameRollRate_RotPot              0.411705         -0.277282 -0.074495   \n",
       "CenterFrameRoll_LVDT                    1.000000         -0.188704 -0.138542   \n",
       "CylinderPressure                       -0.188704          1.000000 -0.032273   \n",
       "Speed                                  -0.138542         -0.032273  1.000000   \n",
       "TiltUp                                 -0.010472          0.364709 -0.185965   \n",
       "TiltDown                               -0.027801         -0.272328  0.018736   \n",
       "InletPress                             -0.184105          0.036744 -0.010909   \n",
       "ChassisPitchRate                       -0.028695          0.028614 -0.201812   \n",
       "ChassisRollAngle                       -0.453082          0.045496  0.136267   \n",
       "ChassisRollRate                        -0.104914         -0.052803  0.104947   \n",
       "ChassisYawRate                          0.069163          0.082497  0.100226   \n",
       "RightFront                              0.036940          0.002424 -0.271919   \n",
       "LeftFront                              -0.059268          0.030980 -0.187440   \n",
       "RightBack                               0.223732         -0.423992 -0.013828   \n",
       "LeftBack                               -0.074046         -0.269075  0.273377   \n",
       "\n",
       "                              TiltUp  TiltDown  InletPress  ChassisPitchRate  \\\n",
       "MaxError                   -0.175111  0.338361    0.031745         -0.077517   \n",
       "CenterFrameRollRate_RotPot -0.058546  0.131313    0.057689         -0.096415   \n",
       "CenterFrameRoll_LVDT       -0.010472 -0.027801   -0.184105         -0.028695   \n",
       "CylinderPressure            0.364709 -0.272328    0.036744          0.028614   \n",
       "Speed                      -0.185965  0.018736   -0.010909         -0.201812   \n",
       "TiltUp                      1.000000 -0.234748    0.082038         -0.095903   \n",
       "TiltDown                   -0.234748  1.000000    0.075383          0.027315   \n",
       "InletPress                  0.082038  0.075383    1.000000         -0.363091   \n",
       "ChassisPitchRate           -0.095903  0.027315   -0.363091          1.000000   \n",
       "ChassisRollAngle            0.040192  0.157909    0.209505         -0.057238   \n",
       "ChassisRollRate            -0.173791  0.036871   -0.034410          0.033617   \n",
       "ChassisYawRate              0.118032 -0.128619    0.110252         -0.284134   \n",
       "RightFront                  0.054483 -0.124481   -0.078285         -0.113284   \n",
       "LeftFront                   0.091050 -0.030928    0.139354         -0.058616   \n",
       "RightBack                  -0.258520  0.152299    0.016036          0.121095   \n",
       "LeftBack                   -0.160159  0.231653    0.064951          0.020737   \n",
       "\n",
       "                            ChassisRollAngle  ChassisRollRate  ChassisYawRate  \\\n",
       "MaxError                            0.099796        -0.038060       -0.129737   \n",
       "CenterFrameRollRate_RotPot          0.021439        -0.064871        0.280388   \n",
       "CenterFrameRoll_LVDT               -0.453082        -0.104914        0.069163   \n",
       "CylinderPressure                    0.045496        -0.052803        0.082497   \n",
       "Speed                               0.136267         0.104947        0.100226   \n",
       "TiltUp                              0.040192        -0.173791        0.118032   \n",
       "TiltDown                            0.157909         0.036871       -0.128619   \n",
       "InletPress                          0.209505        -0.034410        0.110252   \n",
       "ChassisPitchRate                   -0.057238         0.033617       -0.284134   \n",
       "ChassisRollAngle                    1.000000        -0.028640        0.013025   \n",
       "ChassisRollRate                    -0.028640         1.000000       -0.252308   \n",
       "ChassisYawRate                      0.013025        -0.252308        1.000000   \n",
       "RightFront                         -0.462739         0.205148        0.022213   \n",
       "LeftFront                           0.404372        -0.172023       -0.094384   \n",
       "RightBack                          -0.352118        -0.076853       -0.031623   \n",
       "LeftBack                            0.514602         0.102571       -0.144877   \n",
       "\n",
       "                            RightFront  LeftFront  RightBack  LeftBack  \n",
       "MaxError                     -0.159369  -0.067412   0.284740  0.172385  \n",
       "CenterFrameRollRate_RotPot   -0.077886  -0.032643   0.209818  0.191361  \n",
       "CenterFrameRoll_LVDT          0.036940  -0.059268   0.223732 -0.074046  \n",
       "CylinderPressure              0.002424   0.030980  -0.423992 -0.269075  \n",
       "Speed                        -0.271919  -0.187440  -0.013828  0.273377  \n",
       "TiltUp                        0.054483   0.091050  -0.258520 -0.160159  \n",
       "TiltDown                     -0.124481  -0.030928   0.152299  0.231653  \n",
       "InletPress                   -0.078285   0.139354   0.016036  0.064951  \n",
       "ChassisPitchRate             -0.113284  -0.058616   0.121095  0.020737  \n",
       "ChassisRollAngle             -0.462739   0.404372  -0.352118  0.514602  \n",
       "ChassisRollRate               0.205148  -0.172023  -0.076853  0.102571  \n",
       "ChassisYawRate                0.022213  -0.094384  -0.031623 -0.144877  \n",
       "RightFront                    1.000000  -0.049516   0.032479 -0.372708  \n",
       "LeftFront                    -0.049516   1.000000  -0.316647  0.152636  \n",
       "RightBack                     0.032479  -0.316647   1.000000  0.046106  \n",
       "LeftBack                     -0.372708   0.152636   0.046106  1.000000  "
      ]
     },
     "execution_count": 44,
     "metadata": {},
     "output_type": "execute_result"
    }
   ],
   "source": [
    "#create correlation of dataset 3\n",
    "corr=dataset3.corr(method = \"pearson\")\n",
    "corr"
   ]
  },
  {
   "cell_type": "code",
   "execution_count": 45,
   "metadata": {},
   "outputs": [
    {
     "data": {
      "image/png": "[encoded data removed]",
      "text/plain": [
       "<Figure size 432x288 with 2 Axes>"
      ]
     },
     "metadata": {
      "needs_background": "light"
     },
     "output_type": "display_data"
    }
   ],
   "source": [
    "import seaborn as sns\n",
    "\n",
    "ax = plt.axes()\n",
    "sns.heatmap(corr)\n",
    "ax.set_title('Heat Map - Running')\n",
    "plt.savefig('heatmapFeatures2.png', tight_layout= True)"
   ]
  },
  {
   "cell_type": "code",
   "execution_count": 46,
   "metadata": {},
   "outputs": [
    {
     "data": {
      "text/plain": [
       "array([[ 3.000000e-01,  8.515625e-01,  1.878000e+03, ...,  1.635000e+03,\n",
       "         1.696000e+03,  1.480000e+03],\n",
       "       [ 3.000000e-01,  7.968750e-01,  1.992000e+03, ...,  1.658000e+03,\n",
       "         1.672000e+03,  1.461000e+03],\n",
       "       [ 2.000000e-01,  7.890625e-01,  2.102000e+03, ...,  1.712000e+03,\n",
       "         1.701000e+03,  1.468000e+03],\n",
       "       ...,\n",
       "       [-1.000000e-01,  7.890625e-01,  2.375000e+03, ...,  1.371000e+03,\n",
       "         1.954000e+03,  1.667000e+03],\n",
       "       [-9.000000e-01,  6.562500e-01,  2.452000e+03, ...,  1.359000e+03,\n",
       "         1.947000e+03,  1.646000e+03],\n",
       "       [-1.400000e+00,  5.703125e-01,  2.461000e+03, ...,  1.346000e+03,\n",
       "         1.919000e+03,  1.635000e+03]])"
      ]
     },
     "execution_count": 46,
     "metadata": {},
     "output_type": "execute_result"
    }
   ],
   "source": [
    "#split dataset into train and model\n",
    "from sklearn.model_selection import train_test_split\n",
    "\n",
    "#select features to look at\n",
    "X = dataset3.iloc[:, 1:17].values\n",
    "X"
   ]
  },
  {
   "cell_type": "code",
   "execution_count": 47,
   "metadata": {},
   "outputs": [
    {
     "data": {
      "text/plain": [
       "array([339, 339, 339, ..., 524, 414, 304], dtype=int64)"
      ]
     },
     "execution_count": 47,
     "metadata": {},
     "output_type": "execute_result"
    }
   ],
   "source": [
    "#pick the target variables\n",
    "Y = dataset3.iloc[:, 0].values\n",
    "Y"
   ]
  },
  {
   "cell_type": "code",
   "execution_count": 48,
   "metadata": {},
   "outputs": [],
   "source": [
    "X_train, X_test, Y_train, Y_test = train_test_split(X, Y, test_size = 0.25, random_state = 0)"
   ]
  },
  {
   "cell_type": "code",
   "execution_count": 49,
   "metadata": {},
   "outputs": [],
   "source": [
    "reg = ske.RandomForestRegressor(n_estimators= 1000, random_state= 0)"
   ]
  },
  {
   "cell_type": "code",
   "execution_count": 50,
   "metadata": {},
   "outputs": [
    {
     "data": {
      "text/plain": [
       "RandomForestRegressor(bootstrap=True, criterion='mse', max_depth=None,\n",
       "                      max_features='auto', max_leaf_nodes=None,\n",
       "                      min_impurity_decrease=0.0, min_impurity_split=None,\n",
       "                      min_samples_leaf=1, min_samples_split=2,\n",
       "                      min_weight_fraction_leaf=0.0, n_estimators=1000,\n",
       "                      n_jobs=None, oob_score=False, random_state=0, verbose=0,\n",
       "                      warm_start=False)"
      ]
     },
     "execution_count": 50,
     "metadata": {},
     "output_type": "execute_result"
    }
   ],
   "source": [
    "reg.fit(X_train, Y_train)"
   ]
  },
  {
   "cell_type": "code",
   "execution_count": 51,
   "metadata": {},
   "outputs": [],
   "source": [
    "y_pred = reg.predict(X_test)"
   ]
  },
  {
   "cell_type": "code",
   "execution_count": 52,
   "metadata": {},
   "outputs": [
    {
     "data": {
      "text/plain": [
       "0.7491786371320042"
      ]
     },
     "execution_count": 52,
     "metadata": {},
     "output_type": "execute_result"
    }
   ],
   "source": [
    "from sklearn.metrics import explained_variance_score, max_error, mean_absolute_error, mean_squared_error, r2_score\n",
    "\n",
    "explained_variance_score(Y_test, y_pred)"
   ]
  },
  {
   "cell_type": "code",
   "execution_count": 53,
   "metadata": {},
   "outputs": [
    {
     "data": {
      "text/plain": [
       "261.73400000000004"
      ]
     },
     "execution_count": 53,
     "metadata": {},
     "output_type": "execute_result"
    }
   ],
   "source": [
    "#calculate max error, difference, between the test and the predicted y\n",
    "max_error(Y_test, y_pred)"
   ]
  },
  {
   "cell_type": "code",
   "execution_count": 54,
   "metadata": {},
   "outputs": [
    {
     "data": {
      "text/plain": [
       "array([0.0662129 , 0.11177375, 0.0343946 , 0.18123168, 0.0416968 ,\n",
       "       0.11379962, 0.03620284, 0.03769911, 0.12101746, 0.02505476,\n",
       "       0.05196037, 0.0378811 , 0.03140091, 0.06836437, 0.04130973])"
      ]
     },
     "execution_count": 54,
     "metadata": {},
     "output_type": "execute_result"
    }
   ],
   "source": [
    "reg.feature_importances_"
   ]
  },
  {
   "cell_type": "code",
   "execution_count": 55,
   "metadata": {},
   "outputs": [],
   "source": [
    "fet_ind = np.argsort(reg.feature_importances_)[::-1]"
   ]
  },
  {
   "cell_type": "code",
   "execution_count": 56,
   "metadata": {},
   "outputs": [],
   "source": [
    "fet_imp = reg.feature_importances_[np.argsort(reg.feature_importances_)][::-1]"
   ]
  },
  {
   "cell_type": "code",
   "execution_count": 57,
   "metadata": {},
   "outputs": [
    {
     "data": {
      "text/plain": [
       "(1415, 16)"
      ]
     },
     "execution_count": 57,
     "metadata": {},
     "output_type": "execute_result"
    }
   ],
   "source": [
    "dataset3.shape"
   ]
  },
  {
   "cell_type": "code",
   "execution_count": 58,
   "metadata": {},
   "outputs": [
    {
     "data": {
      "text/plain": [
       "Index(['CenterFrameRollRate_RotPot', 'CenterFrameRoll_LVDT',\n",
       "       'CylinderPressure', 'Speed', 'TiltUp', 'TiltDown', 'InletPress',\n",
       "       'ChassisPitchRate', 'ChassisRollAngle', 'ChassisRollRate',\n",
       "       'ChassisYawRate', 'RightFront', 'LeftFront', 'RightBack', 'LeftBack'],\n",
       "      dtype='object')"
      ]
     },
     "execution_count": 58,
     "metadata": {},
     "output_type": "execute_result"
    }
   ],
   "source": [
    "z = dataset3.columns[1:16]\n",
    "z"
   ]
  },
  {
   "cell_type": "code",
   "execution_count": 59,
   "metadata": {},
   "outputs": [
    {
     "data": {
      "text/plain": [
       "Index(['Speed', 'ChassisRollAngle', 'TiltDown', 'CenterFrameRoll_LVDT',\n",
       "       'RightBack', 'CenterFrameRollRate_RotPot', 'ChassisYawRate', 'TiltUp',\n",
       "       'LeftBack', 'RightFront', 'ChassisPitchRate', 'InletPress',\n",
       "       'CylinderPressure', 'LeftFront', 'ChassisRollRate'],\n",
       "      dtype='object')"
      ]
     },
     "execution_count": 59,
     "metadata": {},
     "output_type": "execute_result"
    }
   ],
   "source": [
    "z[fet_ind]"
   ]
  },
  {
   "cell_type": "code",
   "execution_count": 60,
   "metadata": {},
   "outputs": [
    {
     "data": {
      "image/png": "[encoded data removed]",
      "text/plain": [
       "<Figure size 576x216 with 1 Axes>"
      ]
     },
     "metadata": {
      "needs_background": "light"
     },
     "output_type": "display_data"
    }
   ],
   "source": [
    "fig, ax = plt.subplots(1,1,figsize=(8,3))\n",
    "labels = z[fet_ind]\n",
    "pd.Series(fet_imp, index = labels).plot('bar', ax=ax)\n",
    "ax.set_title('Features Importance - Running')\n",
    "plt.savefig('FeatureImportanceAll2.png', tight_layout= True)"
   ]
  },
  {
   "cell_type": "code",
   "execution_count": 61,
   "metadata": {},
   "outputs": [
    {
     "data": {
      "text/plain": [
       "Text(0.5, 1.0, 'Predicted Values')"
      ]
     },
     "execution_count": 61,
     "metadata": {},
     "output_type": "execute_result"
    },
    {
     "data": {
      "image/png": "[encoded data removed]",
      "text/plain": [
       "<Figure size 576x216 with 1 Axes>"
      ]
     },
     "metadata": {
      "needs_background": "light"
     },
     "output_type": "display_data"
    }
   ],
   "source": [
    "fig, ax = plt.subplots(1,1,figsize=(8,3))\n",
    "\n",
    "ax.scatter(X[:, 1], Y)\n",
    "ax.set_xlabel('CenterFrameRoll_LVDT')\n",
    "ax.set_ylabel('Value of Max Error [mm]')\n",
    "ax.set_title('Predicted Values')"
   ]
  },
  {
   "cell_type": "code",
   "execution_count": 62,
   "metadata": {},
   "outputs": [],
   "source": [
    "from sklearn import tree"
   ]
  },
  {
   "cell_type": "code",
   "execution_count": 63,
   "metadata": {},
   "outputs": [],
   "source": [
    "tree.export_graphviz(reg.estimators_[5], 'tree3Mask.dot', feature_names = z, rounded = True, precision = 1)"
   ]
  },
  {
   "cell_type": "code",
   "execution_count": 64,
   "metadata": {},
   "outputs": [
    {
     "name": "stdout",
     "output_type": "stream",
     "text": [
      "56.42357344632768\n",
      "5179.101015053672\n",
      "0.7485211234998201\n"
     ]
    }
   ],
   "source": [
    "#statistical analysis from \n",
    "print(mean_absolute_error(Y_test, y_pred)) #56 mm #high chance of outliers use this one\n",
    "print(mean_squared_error(Y_test, y_pred)) #mm^2 about 70 mm = 3 inches of difference\n",
    "print(r2_score(Y_test, y_pred, multioutput='variance_weighted')) # "
   ]
  },
  {
   "cell_type": "code",
   "execution_count": null,
   "metadata": {},
   "outputs": [],
   "source": []
  },
  {
   "cell_type": "code",
   "execution_count": null,
   "metadata": {},
   "outputs": [],
   "source": []
  },
  {
   "cell_type": "code",
   "execution_count": null,
   "metadata": {},
   "outputs": [],
   "source": []
  },
  {
   "cell_type": "code",
   "execution_count": null,
   "metadata": {},
   "outputs": [],
   "source": []
  },
  {
   "cell_type": "code",
   "execution_count": null,
   "metadata": {},
   "outputs": [],
   "source": []
  },
  {
   "cell_type": "code",
   "execution_count": null,
   "metadata": {},
   "outputs": [],
   "source": []
  },
  {
   "cell_type": "code",
   "execution_count": null,
   "metadata": {},
   "outputs": [],
   "source": []
  },
  {
   "cell_type": "code",
   "execution_count": null,
   "metadata": {},
   "outputs": [],
   "source": []
  },
  {
   "cell_type": "code",
   "execution_count": null,
   "metadata": {},
   "outputs": [],
   "source": []
  },
  {
   "cell_type": "code",
   "execution_count": null,
   "metadata": {},
   "outputs": [],
   "source": []
  },
  {
   "cell_type": "code",
   "execution_count": null,
   "metadata": {},
   "outputs": [],
   "source": []
  },
  {
   "cell_type": "code",
   "execution_count": null,
   "metadata": {},
   "outputs": [],
   "source": []
  },
  {
   "cell_type": "code",
   "execution_count": null,
   "metadata": {},
   "outputs": [],
   "source": [
    "\n"
   ]
  },
  {
   "cell_type": "code",
   "execution_count": null,
   "metadata": {},
   "outputs": [],
   "source": []
  },
  {
   "cell_type": "code",
   "execution_count": null,
   "metadata": {},
   "outputs": [],
   "source": []
  },
  {
   "cell_type": "code",
   "execution_count": null,
   "metadata": {},
   "outputs": [],
   "source": []
  },
  {
   "cell_type": "markdown",
   "metadata": {},
   "source": [
    "## Task for Students"
   ]
  },
  {
   "cell_type": "markdown",
   "metadata": {},
   "source": [
    "Do random forest with ramp run once I create a CSV. They have to write python script for it."
   ]
  }
 ],
 "metadata": {
  "kernelspec": {
   "display_name": "Python 3",
   "language": "python",
   "name": "python3"
  },
  "language_info": {
   "codemirror_mode": {
    "name": "ipython",
    "version": 3
   },
   "file_extension": ".py",
   "mimetype": "text/x-python",
   "name": "python",
   "nbconvert_exporter": "python",
   "pygments_lexer": "ipython3",
   "version": "3.7.3"
  }
 },
 "nbformat": 4,
 "nbformat_minor": 2
}
